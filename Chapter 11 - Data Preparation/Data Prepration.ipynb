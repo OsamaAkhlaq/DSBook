{
 "cells": [
  {
   "cell_type": "markdown",
   "id": "1d9a2165",
   "metadata": {},
   "source": [
    "### Handling Duplicates"
   ]
  },
  {
   "cell_type": "code",
   "execution_count": null,
   "id": "17d4e87c",
   "metadata": {},
   "outputs": [],
   "source": [
    "import pandas as pd"
   ]
  },
  {
   "cell_type": "code",
   "execution_count": null,
   "id": "89983f21",
   "metadata": {},
   "outputs": [],
   "source": [
    "df = pd.read_csv(r\"dataset\\cancer_reg.csv\", encoding='latin-1')"
   ]
  },
  {
   "cell_type": "code",
   "execution_count": null,
   "id": "ded01e16",
   "metadata": {
    "scrolled": true
   },
   "outputs": [],
   "source": [
    "df.head()"
   ]
  },
  {
   "cell_type": "code",
   "execution_count": null,
   "id": "427682ab",
   "metadata": {},
   "outputs": [],
   "source": [
    "df.duplicated()"
   ]
  },
  {
   "cell_type": "code",
   "execution_count": null,
   "id": "627961c5",
   "metadata": {},
   "outputs": [],
   "source": [
    "df.duplicated().sum()"
   ]
  },
  {
   "cell_type": "code",
   "execution_count": null,
   "id": "915701b0",
   "metadata": {},
   "outputs": [],
   "source": [
    "df[['avgAnnCount', 'avgDeathsPerYear', 'TARGET_deathRate']]"
   ]
  },
  {
   "cell_type": "code",
   "execution_count": null,
   "id": "5082de02",
   "metadata": {},
   "outputs": [],
   "source": [
    "df[df.duplicated()]"
   ]
  },
  {
   "cell_type": "code",
   "execution_count": null,
   "id": "9fd41163",
   "metadata": {},
   "outputs": [],
   "source": [
    "df.loc[df.duplicated(), ['avgAnnCount', 'avgDeathsPerYear', \\\n",
    "                         'TARGET_deathRate']]"
   ]
  },
  {
   "cell_type": "code",
   "execution_count": null,
   "id": "b45b9029",
   "metadata": {},
   "outputs": [],
   "source": [
    "df.loc[df.duplicated(keep='last'), ['avgAnnCount', 'avgDeathsPerYear', \\\n",
    "                         'TARGET_deathRate']]"
   ]
  },
  {
   "cell_type": "code",
   "execution_count": null,
   "id": "088f29e0",
   "metadata": {},
   "outputs": [],
   "source": [
    "df.loc[df.duplicated(keep=False),['avgAnnCount','avgDeathsPerYear', \\\n",
    "                         'TARGET_deathRate']]"
   ]
  },
  {
   "cell_type": "code",
   "execution_count": null,
   "id": "52a6ce14",
   "metadata": {},
   "outputs": [],
   "source": [
    "df.drop_duplicates(keep='first')"
   ]
  },
  {
   "cell_type": "code",
   "execution_count": null,
   "id": "16d3e2d1",
   "metadata": {},
   "outputs": [],
   "source": [
    "df.duplicated(subset=['avgAnnCount', 'avgDeathsPerYear', \\\n",
    "                         'TARGET_deathRate'], keep='first').sum()"
   ]
  },
  {
   "cell_type": "markdown",
   "id": "f554393b",
   "metadata": {},
   "source": [
    "### Converting Data Types"
   ]
  },
  {
   "cell_type": "code",
   "execution_count": null,
   "id": "ff21d509",
   "metadata": {},
   "outputs": [],
   "source": [
    "df.dtypes"
   ]
  },
  {
   "cell_type": "code",
   "execution_count": null,
   "id": "97f376b6",
   "metadata": {},
   "outputs": [],
   "source": [
    "df = pd.read_csv(r\"dataset\\cancer_reg.csv\", encoding='latin-1', \n",
    "                 dtype={'medIncome': 'float64'})"
   ]
  },
  {
   "cell_type": "code",
   "execution_count": null,
   "id": "ef0f4160",
   "metadata": {},
   "outputs": [],
   "source": [
    "df.dtypes"
   ]
  },
  {
   "cell_type": "code",
   "execution_count": null,
   "id": "e39767d5",
   "metadata": {},
   "outputs": [],
   "source": [
    "df['medIncome'] = df['medIncome'].astype('int64')\n",
    "df.dtypes"
   ]
  },
  {
   "cell_type": "code",
   "execution_count": null,
   "id": "5cebf0f7",
   "metadata": {},
   "outputs": [],
   "source": [
    "df['County'] = df['County'].astype('category')\n",
    "df.dtypes"
   ]
  },
  {
   "cell_type": "code",
   "execution_count": null,
   "id": "669ed128",
   "metadata": {},
   "outputs": [],
   "source": [
    "df['County'].cat.categories"
   ]
  },
  {
   "cell_type": "markdown",
   "id": "09a43bd4",
   "metadata": {},
   "source": [
    "### Handling Incorrect Values"
   ]
  },
  {
   "cell_type": "code",
   "execution_count": null,
   "id": "7034515e",
   "metadata": {},
   "outputs": [],
   "source": [
    "df['City'].unique()"
   ]
  },
  {
   "cell_type": "code",
   "execution_count": null,
   "id": "ab273280",
   "metadata": {},
   "outputs": [],
   "source": [
    "df.loc[df['City']=='Washton', ['County', 'City']]"
   ]
  },
  {
   "cell_type": "code",
   "execution_count": null,
   "id": "ca0eedcf",
   "metadata": {},
   "outputs": [],
   "source": [
    "df.loc[df['City']=='Kanss', ['County', 'City']]"
   ]
  },
  {
   "cell_type": "code",
   "execution_count": null,
   "id": "27188ac6",
   "metadata": {},
   "outputs": [],
   "source": [
    "df.loc[df['City']=='Washton', 'City'] = 'Washington'"
   ]
  },
  {
   "cell_type": "code",
   "execution_count": null,
   "id": "f1bb9a8c",
   "metadata": {},
   "outputs": [],
   "source": [
    "df.loc[df['City']=='Washton', 'City']"
   ]
  },
  {
   "cell_type": "code",
   "execution_count": null,
   "id": "8edf1729",
   "metadata": {},
   "outputs": [],
   "source": [
    "df.loc[df['City']=='Kanss', 'City'] = 'Kansas'"
   ]
  },
  {
   "cell_type": "code",
   "execution_count": null,
   "id": "3dfbc927",
   "metadata": {},
   "outputs": [],
   "source": [
    "df.loc[df['City']=='Kanss', 'City']"
   ]
  },
  {
   "cell_type": "markdown",
   "id": "6af23c98",
   "metadata": {},
   "source": [
    "### Handling Missing Values"
   ]
  },
  {
   "cell_type": "code",
   "execution_count": null,
   "id": "ec300abc",
   "metadata": {},
   "outputs": [],
   "source": [
    "df.isna()"
   ]
  },
  {
   "cell_type": "code",
   "execution_count": null,
   "id": "a32d41ce",
   "metadata": {},
   "outputs": [],
   "source": [
    "df.isna().sum()"
   ]
  },
  {
   "cell_type": "code",
   "execution_count": null,
   "id": "c24e18d5",
   "metadata": {},
   "outputs": [],
   "source": [
    "df[df['PctSomeCol18_24'].isna()]"
   ]
  },
  {
   "cell_type": "code",
   "execution_count": null,
   "id": "81fb29f4",
   "metadata": {},
   "outputs": [],
   "source": [
    "df.dropna(subset=['PctSomeCol18_24'])"
   ]
  },
  {
   "cell_type": "code",
   "execution_count": null,
   "id": "b0550228",
   "metadata": {},
   "outputs": [],
   "source": [
    "df.dropna(subset=['PctSomeCol18_24'], inplace=True)"
   ]
  },
  {
   "cell_type": "code",
   "execution_count": null,
   "id": "a642837d",
   "metadata": {},
   "outputs": [],
   "source": [
    "df.isna().sum()"
   ]
  },
  {
   "cell_type": "code",
   "execution_count": null,
   "id": "b3a853c0",
   "metadata": {},
   "outputs": [],
   "source": [
    "df[df['PctEmployed16_Over'].isna()]"
   ]
  },
  {
   "cell_type": "code",
   "execution_count": null,
   "id": "4c391a48",
   "metadata": {},
   "outputs": [],
   "source": [
    "df['PctEmployed16_Over'].fillna('Missing', inplace=True)"
   ]
  },
  {
   "cell_type": "code",
   "execution_count": null,
   "id": "58486b56",
   "metadata": {},
   "outputs": [],
   "source": [
    "df.isna().sum()"
   ]
  },
  {
   "cell_type": "code",
   "execution_count": null,
   "id": "7f430191",
   "metadata": {},
   "outputs": [],
   "source": [
    "df[df['PctPrivateCoverageAlone'].isna()]"
   ]
  },
  {
   "cell_type": "code",
   "execution_count": null,
   "id": "733ae98e",
   "metadata": {},
   "outputs": [],
   "source": [
    "df.dropna(subset=['PctPrivateCoverageAlone'], inplace=True)"
   ]
  }
 ],
 "metadata": {
  "kernelspec": {
   "display_name": "Python 3",
   "language": "python",
   "name": "python3"
  },
  "language_info": {
   "codemirror_mode": {
    "name": "ipython",
    "version": 3
   },
   "file_extension": ".py",
   "mimetype": "text/x-python",
   "name": "python",
   "nbconvert_exporter": "python",
   "pygments_lexer": "ipython3",
   "version": "3.8.8"
  }
 },
 "nbformat": 4,
 "nbformat_minor": 5
}
