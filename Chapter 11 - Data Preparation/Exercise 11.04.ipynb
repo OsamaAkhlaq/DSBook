{
 "cells": [
  {
   "cell_type": "markdown",
   "id": "7ca1f70f",
   "metadata": {},
   "source": [
    "### Exercise 11.04: Fixing Missing Values in a Life Expectancy Data"
   ]
  },
  {
   "cell_type": "code",
   "execution_count": null,
   "id": "230a62c1",
   "metadata": {},
   "outputs": [],
   "source": [
    "import pandas as pd\n",
    "import warnings\n",
    "warnings.filterwarnings('ignore')"
   ]
  },
  {
   "cell_type": "code",
   "execution_count": null,
   "id": "1077f8ef",
   "metadata": {},
   "outputs": [],
   "source": [
    "df = pd.read_csv(r\"dataset\\Life Expectancy Data.csv\")"
   ]
  },
  {
   "cell_type": "code",
   "execution_count": null,
   "id": "0326df9c",
   "metadata": {},
   "outputs": [],
   "source": [
    "df.tail()"
   ]
  },
  {
   "cell_type": "code",
   "execution_count": null,
   "id": "f50fa817",
   "metadata": {},
   "outputs": [],
   "source": [
    "df.dtypes"
   ]
  },
  {
   "cell_type": "code",
   "execution_count": null,
   "id": "5454df31",
   "metadata": {},
   "outputs": [],
   "source": [
    "df.columns"
   ]
  },
  {
   "cell_type": "code",
   "execution_count": null,
   "id": "42d0a1e9",
   "metadata": {},
   "outputs": [],
   "source": [
    "df.isnull().sum()"
   ]
  },
  {
   "cell_type": "code",
   "execution_count": null,
   "id": "3d11527e",
   "metadata": {},
   "outputs": [],
   "source": [
    "LE_mask = df['Life expectancy '].isna()"
   ]
  },
  {
   "cell_type": "code",
   "execution_count": null,
   "id": "09f8d75e",
   "metadata": {},
   "outputs": [],
   "source": [
    "LE_mask.sum()"
   ]
  },
  {
   "cell_type": "code",
   "execution_count": null,
   "id": "0d62c837",
   "metadata": {},
   "outputs": [],
   "source": [
    "LE_median = df['Life expectancy '].median()\n",
    "print(LE_median)"
   ]
  },
  {
   "cell_type": "code",
   "execution_count": null,
   "id": "7013cda3",
   "metadata": {},
   "outputs": [],
   "source": [
    "df['Life expectancy '].fillna(LE_median, inplace=True)"
   ]
  },
  {
   "cell_type": "code",
   "execution_count": null,
   "id": "ec414046",
   "metadata": {},
   "outputs": [],
   "source": [
    "df['Life expectancy '].isna().sum()"
   ]
  },
  {
   "cell_type": "code",
   "execution_count": null,
   "id": "16317f34",
   "metadata": {},
   "outputs": [],
   "source": [
    "df.info()"
   ]
  },
  {
   "cell_type": "code",
   "execution_count": null,
   "id": "d8ac5f30",
   "metadata": {},
   "outputs": [],
   "source": [
    "for col_name in df.select_dtypes(exclude=\"object\").columns:\n",
    "    col_median = df[col_name].median()\n",
    "    df[col_name].fillna(col_median, inplace=True)\n",
    "    print(col_name)\n",
    "    print(col_median)"
   ]
  },
  {
   "cell_type": "code",
   "execution_count": null,
   "id": "d24e1c31",
   "metadata": {},
   "outputs": [],
   "source": [
    "df.isna().sum()"
   ]
  },
  {
   "cell_type": "code",
   "execution_count": null,
   "id": "781528d2",
   "metadata": {},
   "outputs": [],
   "source": []
  },
  {
   "cell_type": "code",
   "execution_count": null,
   "id": "3ac6b917",
   "metadata": {},
   "outputs": [],
   "source": []
  },
  {
   "cell_type": "code",
   "execution_count": null,
   "id": "d2146f3e",
   "metadata": {},
   "outputs": [],
   "source": []
  }
 ],
 "metadata": {
  "kernelspec": {
   "display_name": "Python 3",
   "language": "python",
   "name": "python3"
  },
  "language_info": {
   "codemirror_mode": {
    "name": "ipython",
    "version": 3
   },
   "file_extension": ".py",
   "mimetype": "text/x-python",
   "name": "python",
   "nbconvert_exporter": "python",
   "pygments_lexer": "ipython3",
   "version": "3.8.8"
  }
 },
 "nbformat": 4,
 "nbformat_minor": 5
}
