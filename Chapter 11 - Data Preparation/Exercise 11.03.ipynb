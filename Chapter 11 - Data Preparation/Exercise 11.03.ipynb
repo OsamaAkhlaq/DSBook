{
 "cells": [
  {
   "cell_type": "markdown",
   "id": "fb17e4bc",
   "metadata": {},
   "source": [
    "### Fixing Incorrect Values"
   ]
  },
  {
   "cell_type": "code",
   "execution_count": null,
   "id": "23adc0e9",
   "metadata": {},
   "outputs": [],
   "source": [
    "import pandas as pd"
   ]
  },
  {
   "cell_type": "code",
   "execution_count": null,
   "id": "09a18951",
   "metadata": {},
   "outputs": [],
   "source": [
    "df = pd.read_csv(r\"dataset\\Life Expectancy Data.csv\")"
   ]
  },
  {
   "cell_type": "code",
   "execution_count": null,
   "id": "019bec6a",
   "metadata": {},
   "outputs": [],
   "source": [
    "df.info()"
   ]
  },
  {
   "cell_type": "code",
   "execution_count": null,
   "id": "6a00ba82",
   "metadata": {},
   "outputs": [],
   "source": [
    "df.head()"
   ]
  },
  {
   "cell_type": "code",
   "execution_count": null,
   "id": "799fd13b",
   "metadata": {},
   "outputs": [],
   "source": [
    "df['Country'].unique()"
   ]
  },
  {
   "cell_type": "code",
   "execution_count": null,
   "id": "a1976c81",
   "metadata": {},
   "outputs": [],
   "source": [
    "df.loc[df['Country'] == 'Zambiya', 'Country']"
   ]
  },
  {
   "cell_type": "code",
   "execution_count": null,
   "id": "41faf4e3",
   "metadata": {},
   "outputs": [],
   "source": [
    "df['Status'].unique()"
   ]
  },
  {
   "cell_type": "code",
   "execution_count": null,
   "id": "e6dd22b5",
   "metadata": {},
   "outputs": [],
   "source": [
    "df.loc[df['Status'] == 'Devping', 'Status']"
   ]
  },
  {
   "cell_type": "code",
   "execution_count": null,
   "id": "99a05481",
   "metadata": {},
   "outputs": [],
   "source": [
    "df.loc[df['Country'] == 'Zambiya', 'Country'] = 'Zambia'"
   ]
  },
  {
   "cell_type": "code",
   "execution_count": null,
   "id": "ac4f22ad",
   "metadata": {},
   "outputs": [],
   "source": [
    "df.loc[df['Status'] == 'Devping', 'Status'] = 'Developing'"
   ]
  },
  {
   "cell_type": "code",
   "execution_count": null,
   "id": "7921f18e",
   "metadata": {},
   "outputs": [],
   "source": [
    "df.loc[df['Country'] == 'Zambiya', 'Country']"
   ]
  },
  {
   "cell_type": "code",
   "execution_count": null,
   "id": "ba071442",
   "metadata": {},
   "outputs": [],
   "source": [
    "df.loc[df['Status'] == 'Devping', 'Status']"
   ]
  },
  {
   "cell_type": "code",
   "execution_count": null,
   "id": "16e70325",
   "metadata": {},
   "outputs": [],
   "source": []
  }
 ],
 "metadata": {
  "kernelspec": {
   "display_name": "Python 3",
   "language": "python",
   "name": "python3"
  },
  "language_info": {
   "codemirror_mode": {
    "name": "ipython",
    "version": 3
   },
   "file_extension": ".py",
   "mimetype": "text/x-python",
   "name": "python",
   "nbconvert_exporter": "python",
   "pygments_lexer": "ipython3",
   "version": "3.8.8"
  }
 },
 "nbformat": 4,
 "nbformat_minor": 5
}
