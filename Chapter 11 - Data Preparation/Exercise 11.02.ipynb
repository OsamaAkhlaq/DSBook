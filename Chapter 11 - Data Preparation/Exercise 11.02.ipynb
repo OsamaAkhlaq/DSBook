{
 "cells": [
  {
   "cell_type": "markdown",
   "id": "34c2ba06",
   "metadata": {},
   "source": [
    "### Converting Data Types for Life Expectancy Data"
   ]
  },
  {
   "cell_type": "code",
   "execution_count": null,
   "id": "61b45120",
   "metadata": {},
   "outputs": [],
   "source": [
    "import pandas as pd"
   ]
  },
  {
   "cell_type": "code",
   "execution_count": null,
   "id": "af5c4e77",
   "metadata": {},
   "outputs": [],
   "source": [
    "df = pd.read_csv(r\"dataset\\Life Expectancy Data.csv\")"
   ]
  },
  {
   "cell_type": "code",
   "execution_count": null,
   "id": "459fa70e",
   "metadata": {},
   "outputs": [],
   "source": [
    "df.dtypes"
   ]
  },
  {
   "cell_type": "code",
   "execution_count": null,
   "id": "09ca39c9",
   "metadata": {},
   "outputs": [],
   "source": [
    "df['Status'] = df['Status'].astype('category')"
   ]
  },
  {
   "cell_type": "code",
   "execution_count": null,
   "id": "075b48ad",
   "metadata": {},
   "outputs": [],
   "source": [
    "df['Country'] = df['Country'].astype('category')"
   ]
  },
  {
   "cell_type": "code",
   "execution_count": null,
   "id": "24a625f0",
   "metadata": {},
   "outputs": [],
   "source": [
    "for col_name in ['Status', 'Country']:\n",
    "    print(col_name)\n",
    "    print(df[col_name].cat.categories)"
   ]
  },
  {
   "cell_type": "code",
   "execution_count": null,
   "id": "51c593a2",
   "metadata": {},
   "outputs": [],
   "source": [
    "obj_df = df.select_dtypes(include='category')"
   ]
  },
  {
   "cell_type": "code",
   "execution_count": null,
   "id": "483e2fa0",
   "metadata": {},
   "outputs": [],
   "source": [
    "obj_cols = obj_df.columns\n",
    "obj_cols"
   ]
  },
  {
   "cell_type": "code",
   "execution_count": null,
   "id": "0d98e1ba",
   "metadata": {},
   "outputs": [],
   "source": [
    "for col_name in obj_cols:\n",
    "    print(col_name)\n",
    "    print(df[col_name].unique())"
   ]
  },
  {
   "cell_type": "code",
   "execution_count": null,
   "id": "d305c3d2",
   "metadata": {},
   "outputs": [],
   "source": [
    "for col_name in obj_cols:\n",
    "    df[col_name] = df[col_name].astype('object')"
   ]
  },
  {
   "cell_type": "code",
   "execution_count": null,
   "id": "9f144dc1",
   "metadata": {},
   "outputs": [],
   "source": [
    "df.dtypes"
   ]
  }
 ],
 "metadata": {
  "kernelspec": {
   "display_name": "Python 3",
   "language": "python",
   "name": "python3"
  },
  "language_info": {
   "codemirror_mode": {
    "name": "ipython",
    "version": 3
   },
   "file_extension": ".py",
   "mimetype": "text/x-python",
   "name": "python",
   "nbconvert_exporter": "python",
   "pygments_lexer": "ipython3",
   "version": "3.8.8"
  }
 },
 "nbformat": 4,
 "nbformat_minor": 5
}
