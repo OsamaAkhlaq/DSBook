{
 "cells": [
  {
   "cell_type": "markdown",
   "id": "7cef7711",
   "metadata": {},
   "source": [
    "### Activity 11.01"
   ]
  },
  {
   "cell_type": "markdown",
   "id": "e1dd11da",
   "metadata": {},
   "source": [
    "Analyzing Bikes Data Using Visual Data Analysis Techniques"
   ]
  },
  {
   "cell_type": "markdown",
   "id": "f1950bb1",
   "metadata": {},
   "source": [
    "Import the libraries"
   ]
  },
  {
   "cell_type": "code",
   "execution_count": null,
   "id": "2982d3f6",
   "metadata": {},
   "outputs": [],
   "source": [
    "import pandas as pd\n",
    "import altair as alt\n",
    "alt.data_transformers.disable_max_rows()"
   ]
  },
  {
   "cell_type": "markdown",
   "id": "8a88ac3a",
   "metadata": {},
   "source": [
    "Loading the dataset"
   ]
  },
  {
   "cell_type": "code",
   "execution_count": null,
   "id": "dd673496",
   "metadata": {},
   "outputs": [],
   "source": [
    "df = pd.read_csv(r\"dataset\\bikes.csv\")"
   ]
  },
  {
   "cell_type": "markdown",
   "id": "773efc30",
   "metadata": {},
   "source": [
    "Print out the dimensions of the DataFrame using .shape."
   ]
  },
  {
   "cell_type": "code",
   "execution_count": null,
   "id": "9e3f4be0",
   "metadata": {},
   "outputs": [],
   "source": [
    "df.shape"
   ]
  },
  {
   "cell_type": "markdown",
   "id": "52692743",
   "metadata": {},
   "source": [
    "Check for duplicate rows by using .duplicated() and .sum() on all the columns."
   ]
  },
  {
   "cell_type": "code",
   "execution_count": null,
   "id": "22fab927",
   "metadata": {},
   "outputs": [],
   "source": [
    "df.duplicated()"
   ]
  },
  {
   "cell_type": "code",
   "execution_count": null,
   "id": "7fe34c03",
   "metadata": {},
   "outputs": [],
   "source": [
    "df.duplicated().sum()"
   ]
  },
  {
   "cell_type": "markdown",
   "id": "a7192518",
   "metadata": {},
   "source": [
    "Check for unexpected values from each variable "
   ]
  },
  {
   "cell_type": "code",
   "execution_count": null,
   "id": "8cbd420c",
   "metadata": {},
   "outputs": [],
   "source": [
    "df.info()"
   ]
  },
  {
   "cell_type": "code",
   "execution_count": null,
   "id": "d1d3c783",
   "metadata": {},
   "outputs": [],
   "source": [
    "df.head()"
   ]
  },
  {
   "cell_type": "code",
   "execution_count": null,
   "id": "cc3f7ad9",
   "metadata": {},
   "outputs": [],
   "source": [
    "df['weather'].unique()"
   ]
  },
  {
   "cell_type": "code",
   "execution_count": null,
   "id": "0973d6be",
   "metadata": {},
   "outputs": [],
   "source": [
    "df.loc[df['weather'] == 'one', 'weather']"
   ]
  },
  {
   "cell_type": "markdown",
   "id": "602b2624",
   "metadata": {},
   "source": [
    "data visualization with bar charts(temp variable)"
   ]
  },
  {
   "cell_type": "code",
   "execution_count": null,
   "id": "5d357399",
   "metadata": {},
   "outputs": [],
   "source": [
    "df.loc[df['weather'] == 'one', 'weather'] = \"1\""
   ]
  },
  {
   "cell_type": "code",
   "execution_count": null,
   "id": "addc3734",
   "metadata": {},
   "outputs": [],
   "source": [
    "df.loc[df['weather'] == 'two', 'weather']"
   ]
  },
  {
   "cell_type": "code",
   "execution_count": null,
   "id": "aff6fdf4",
   "metadata": {},
   "outputs": [],
   "source": [
    "df.loc[df['weather'] == 'two', 'weather'] = \"2\""
   ]
  },
  {
   "cell_type": "code",
   "execution_count": null,
   "id": "ef83325c",
   "metadata": {},
   "outputs": [],
   "source": [
    "df['weather'].unique()"
   ]
  },
  {
   "cell_type": "markdown",
   "id": "111a28c5",
   "metadata": {},
   "source": [
    "Check the data type of the different columns using .dtypes."
   ]
  },
  {
   "cell_type": "code",
   "execution_count": null,
   "id": "2e4aea02",
   "metadata": {},
   "outputs": [],
   "source": [
    "df.dtypes"
   ]
  },
  {
   "cell_type": "markdown",
   "id": "c09bb5f6",
   "metadata": {},
   "source": [
    "Change the data types to categorical for the columns that don't contain numerical values using .astype()."
   ]
  },
  {
   "cell_type": "code",
   "execution_count": null,
   "id": "f68ab9c9",
   "metadata": {},
   "outputs": [],
   "source": [
    "df['weather'] = df['weather'].astype('int')"
   ]
  },
  {
   "cell_type": "code",
   "execution_count": null,
   "id": "70cbeef5",
   "metadata": {},
   "outputs": [],
   "source": [
    "df.dtypes"
   ]
  },
  {
   "cell_type": "markdown",
   "id": "0368ec81",
   "metadata": {},
   "source": [
    "Check for any missing values using .isna() and .sum() for each numerical variable."
   ]
  },
  {
   "cell_type": "code",
   "execution_count": null,
   "id": "3c6ac72c",
   "metadata": {},
   "outputs": [],
   "source": [
    "df.isna().sum()"
   ]
  },
  {
   "cell_type": "markdown",
   "id": "89e53c46",
   "metadata": {},
   "source": [
    "Replace the missing values for each numerical variable with their corresponding mean or median values using .fillna(), .mean(), and .median()."
   ]
  },
  {
   "cell_type": "code",
   "execution_count": null,
   "id": "8246558e",
   "metadata": {},
   "outputs": [],
   "source": [
    "for col_name in df.select_dtypes(exclude=\"object\").columns:\n",
    "    col_median = df[col_name].median()\n",
    "    df[col_name].fillna(col_median, inplace=True)\n",
    "    print(col_name)\n",
    "    print(col_median)"
   ]
  },
  {
   "cell_type": "code",
   "execution_count": null,
   "id": "7050660d",
   "metadata": {},
   "outputs": [],
   "source": [
    "df.isna().sum()"
   ]
  },
  {
   "cell_type": "code",
   "execution_count": null,
   "id": "486232fb",
   "metadata": {},
   "outputs": [],
   "source": []
  }
 ],
 "metadata": {
  "kernelspec": {
   "display_name": "Python 3",
   "language": "python",
   "name": "python3"
  },
  "language_info": {
   "codemirror_mode": {
    "name": "ipython",
    "version": 3
   },
   "file_extension": ".py",
   "mimetype": "text/x-python",
   "name": "python",
   "nbconvert_exporter": "python",
   "pygments_lexer": "ipython3",
   "version": "3.8.8"
  }
 },
 "nbformat": 4,
 "nbformat_minor": 5
}
