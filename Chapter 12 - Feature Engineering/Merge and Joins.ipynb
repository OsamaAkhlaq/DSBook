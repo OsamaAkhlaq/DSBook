{
 "cells": [
  {
   "cell_type": "code",
   "execution_count": null,
   "id": "38fc0a42",
   "metadata": {},
   "outputs": [],
   "source": [
    "import pandas as pd"
   ]
  },
  {
   "cell_type": "code",
   "execution_count": null,
   "id": "15786faa",
   "metadata": {},
   "outputs": [],
   "source": [
    "user_usage = pd.read_csv(r\"dataset\\user_usage.csv\")"
   ]
  },
  {
   "cell_type": "code",
   "execution_count": null,
   "id": "8190bffa",
   "metadata": {},
   "outputs": [],
   "source": [
    "user_usage.head()"
   ]
  },
  {
   "cell_type": "code",
   "execution_count": null,
   "id": "da76c4dd",
   "metadata": {},
   "outputs": [],
   "source": [
    "user_usage.shape"
   ]
  },
  {
   "cell_type": "code",
   "execution_count": null,
   "id": "750c1c60",
   "metadata": {},
   "outputs": [],
   "source": [
    "user_device = pd.read_csv(r\"dataset\\user_device.csv\")"
   ]
  },
  {
   "cell_type": "code",
   "execution_count": null,
   "id": "ede6c7a3",
   "metadata": {},
   "outputs": [],
   "source": [
    "user_device.head()"
   ]
  },
  {
   "cell_type": "code",
   "execution_count": null,
   "id": "fecebee4",
   "metadata": {},
   "outputs": [],
   "source": [
    "user_device.shape"
   ]
  },
  {
   "cell_type": "code",
   "execution_count": null,
   "id": "2a1cc343",
   "metadata": {},
   "outputs": [],
   "source": [
    "devices = pd.read_csv(r\"dataset\\android_devices.csv\")"
   ]
  },
  {
   "cell_type": "code",
   "execution_count": null,
   "id": "24e93df6",
   "metadata": {},
   "outputs": [],
   "source": [
    "devices.head()"
   ]
  },
  {
   "cell_type": "code",
   "execution_count": null,
   "id": "8a441404",
   "metadata": {},
   "outputs": [],
   "source": [
    "devices.shape"
   ]
  },
  {
   "cell_type": "code",
   "execution_count": null,
   "id": "ccb1d8a2",
   "metadata": {},
   "outputs": [],
   "source": [
    "result = pd.merge(user_usage,\n",
    "                 user_device[['use_id', 'platform', 'device']],\n",
    "                 on='use_id', \n",
    "                 how='left')"
   ]
  },
  {
   "cell_type": "code",
   "execution_count": null,
   "id": "d1983fb1",
   "metadata": {},
   "outputs": [],
   "source": [
    "print(\"user_usage dimensions: {}\".format(user_usage.shape))\n",
    "print(\"result dimensions: {}\".format(result.shape))\n",
    "print(\"There are {} missing values in the \\\n",
    "result.\".format(result['device'].isnull().sum()))"
   ]
  },
  {
   "cell_type": "code",
   "execution_count": null,
   "id": "9d32fdea",
   "metadata": {},
   "outputs": [],
   "source": [
    "result.head()"
   ]
  },
  {
   "cell_type": "code",
   "execution_count": null,
   "id": "14982341",
   "metadata": {},
   "outputs": [],
   "source": [
    "result.tail()"
   ]
  },
  {
   "cell_type": "code",
   "execution_count": null,
   "id": "45b82ff8",
   "metadata": {},
   "outputs": [],
   "source": [
    "result = pd.merge(user_usage,\n",
    "                 user_device[['use_id', 'platform', 'device']],\n",
    "                 on='use_id', \n",
    "                 how='right')"
   ]
  },
  {
   "cell_type": "code",
   "execution_count": null,
   "id": "79a08c7d",
   "metadata": {},
   "outputs": [],
   "source": [
    "print(\"user_usage dimensions: {}\".format(user_usage.shape))\n",
    "print(\"result dimensions: {}\".format(result.shape))\n",
    "print(\"There are {} missing values in the \\\n",
    "result.\".format(result['device'].isnull().sum()))"
   ]
  },
  {
   "cell_type": "code",
   "execution_count": null,
   "id": "29faa229",
   "metadata": {},
   "outputs": [],
   "source": [
    "result = pd.merge(user_usage,\n",
    "                 user_device[['use_id', 'platform', 'device']],\n",
    "                 on='use_id', \n",
    "                 how='inner')"
   ]
  },
  {
   "cell_type": "code",
   "execution_count": null,
   "id": "d239681c",
   "metadata": {},
   "outputs": [],
   "source": [
    "print(\"user_usage dimensions: {}\".format(user_usage.shape))\n",
    "print(\"result dimensions: {}\".format(result.shape))\n",
    "print(\"There are {} missing values in the \\\n",
    "result.\".format(result['device'].isnull().sum()))"
   ]
  },
  {
   "cell_type": "code",
   "execution_count": null,
   "id": "d289c664",
   "metadata": {},
   "outputs": [],
   "source": [
    "result = pd.merge(user_usage,\n",
    "                 user_device[['use_id', 'platform', 'device']],\n",
    "                 on='use_id', \n",
    "                 how='outer')"
   ]
  },
  {
   "cell_type": "code",
   "execution_count": null,
   "id": "c66a0e8b",
   "metadata": {},
   "outputs": [],
   "source": [
    "print(\"user_usage dimensions: {}\".format(user_usage.shape))\n",
    "print(\"result dimensions: {}\".format(result.shape))\n",
    "print(\"There are {} missing values in the \\\n",
    "result.\".format(result['device'].isnull().sum()))"
   ]
  }
 ],
 "metadata": {
  "kernelspec": {
   "display_name": "Python 3",
   "language": "python",
   "name": "python3"
  },
  "language_info": {
   "codemirror_mode": {
    "name": "ipython",
    "version": 3
   },
   "file_extension": ".py",
   "mimetype": "text/x-python",
   "name": "python",
   "nbconvert_exporter": "python",
   "pygments_lexer": "ipython3",
   "version": "3.8.8"
  }
 },
 "nbformat": 4,
 "nbformat_minor": 5
}
