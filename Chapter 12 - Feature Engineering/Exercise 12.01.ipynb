{
 "cells": [
  {
   "cell_type": "markdown",
   "id": "eb517279",
   "metadata": {},
   "source": [
    "### Exercise 12.01: Merging the Marketing Dataset with the Revenue Data"
   ]
  },
  {
   "cell_type": "code",
   "execution_count": null,
   "id": "f127fe1c",
   "metadata": {},
   "outputs": [],
   "source": [
    "import pandas as pd"
   ]
  },
  {
   "cell_type": "code",
   "execution_count": null,
   "id": "3d0ec257",
   "metadata": {},
   "outputs": [],
   "source": [
    "df_marketing = pd.read_csv(r\"dataset\\Marketing Raw Data.csv\")"
   ]
  },
  {
   "cell_type": "code",
   "execution_count": null,
   "id": "83540854",
   "metadata": {},
   "outputs": [],
   "source": [
    "df_marketing.shape"
   ]
  },
  {
   "cell_type": "code",
   "execution_count": null,
   "id": "58896234",
   "metadata": {},
   "outputs": [],
   "source": [
    "df_marketing.head()"
   ]
  },
  {
   "cell_type": "code",
   "execution_count": null,
   "id": "ef25352c",
   "metadata": {},
   "outputs": [],
   "source": [
    "df_revenue = pd.read_csv(r\"dataset\\Revenue Raw Data.csv\")"
   ]
  },
  {
   "cell_type": "code",
   "execution_count": null,
   "id": "12b24a43",
   "metadata": {},
   "outputs": [],
   "source": [
    "df_revenue.shape"
   ]
  },
  {
   "cell_type": "code",
   "execution_count": null,
   "id": "4a8ddc0c",
   "metadata": {},
   "outputs": [],
   "source": [
    "df_revenue.head()"
   ]
  },
  {
   "cell_type": "code",
   "execution_count": null,
   "id": "55ac11d4",
   "metadata": {},
   "outputs": [],
   "source": [
    "df_marketing['Date'].nunique()"
   ]
  },
  {
   "cell_type": "code",
   "execution_count": null,
   "id": "1d0c19b8",
   "metadata": {},
   "outputs": [],
   "source": [
    "df_revenue['Date'].nunique()"
   ]
  },
  {
   "cell_type": "code",
   "execution_count": null,
   "id": "062d084e",
   "metadata": {},
   "outputs": [],
   "source": [
    "merged_df = pd.merge(df_marketing, df_revenue, \\\n",
    "                     how='left', on='Date')"
   ]
  },
  {
   "cell_type": "code",
   "execution_count": null,
   "id": "73183263",
   "metadata": {},
   "outputs": [],
   "source": [
    "merged_df.shape"
   ]
  },
  {
   "cell_type": "code",
   "execution_count": null,
   "id": "4912912f",
   "metadata": {},
   "outputs": [],
   "source": [
    "merged_df['Revenue'].isna().sum()"
   ]
  },
  {
   "cell_type": "code",
   "execution_count": null,
   "id": "7f6bd423",
   "metadata": {},
   "outputs": [],
   "source": [
    "merged_df.loc[merged_df['Revenue'].isna(), \\\n",
    "              'Date']"
   ]
  },
  {
   "cell_type": "code",
   "execution_count": null,
   "id": "5c6a7ed4",
   "metadata": {},
   "outputs": [],
   "source": []
  },
  {
   "cell_type": "code",
   "execution_count": null,
   "id": "8c41fecd",
   "metadata": {},
   "outputs": [],
   "source": []
  },
  {
   "cell_type": "code",
   "execution_count": null,
   "id": "628f446c",
   "metadata": {},
   "outputs": [],
   "source": []
  },
  {
   "cell_type": "code",
   "execution_count": null,
   "id": "02d89705",
   "metadata": {},
   "outputs": [],
   "source": []
  },
  {
   "cell_type": "code",
   "execution_count": null,
   "id": "66dd5178",
   "metadata": {},
   "outputs": [],
   "source": []
  }
 ],
 "metadata": {
  "kernelspec": {
   "display_name": "Python 3",
   "language": "python",
   "name": "python3"
  },
  "language_info": {
   "codemirror_mode": {
    "name": "ipython",
    "version": 3
   },
   "file_extension": ".py",
   "mimetype": "text/x-python",
   "name": "python",
   "nbconvert_exporter": "python",
   "pygments_lexer": "ipython3",
   "version": "3.8.8"
  }
 },
 "nbformat": 4,
 "nbformat_minor": 5
}
