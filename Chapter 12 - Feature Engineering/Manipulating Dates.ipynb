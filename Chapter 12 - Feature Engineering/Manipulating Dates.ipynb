{
 "cells": [
  {
   "cell_type": "code",
   "execution_count": null,
   "id": "6040b82c",
   "metadata": {},
   "outputs": [],
   "source": [
    "import pandas as pd"
   ]
  },
  {
   "cell_type": "code",
   "execution_count": null,
   "id": "30f819c6",
   "metadata": {},
   "outputs": [],
   "source": [
    "df = pd.read_csv(\"dataset\\catalog.csv\")"
   ]
  },
  {
   "cell_type": "code",
   "execution_count": null,
   "id": "f6fb5ae6",
   "metadata": {},
   "outputs": [],
   "source": [
    "df.dtypes"
   ]
  },
  {
   "cell_type": "code",
   "execution_count": null,
   "id": "9bfadbe6",
   "metadata": {},
   "outputs": [],
   "source": [
    "df['date'] = pd.to_datetime(df['date'])"
   ]
  },
  {
   "cell_type": "code",
   "execution_count": null,
   "id": "81db44fb",
   "metadata": {},
   "outputs": [],
   "source": [
    "df['date'].dt.year"
   ]
  },
  {
   "cell_type": "code",
   "execution_count": null,
   "id": "6e2831be",
   "metadata": {},
   "outputs": [],
   "source": [
    "df['date'].dt.dayofweek"
   ]
  },
  {
   "cell_type": "code",
   "execution_count": null,
   "id": "3ff1780a",
   "metadata": {},
   "outputs": [],
   "source": [
    "df['date'] + pd.tseries.offsets.Day(3)"
   ]
  },
  {
   "cell_type": "code",
   "execution_count": null,
   "id": "d1f2c875",
   "metadata": {},
   "outputs": [],
   "source": [
    "df['date'] + pd.tseries.offsets.BusinessDay(-1)"
   ]
  },
  {
   "cell_type": "code",
   "execution_count": null,
   "id": "a6876349",
   "metadata": {},
   "outputs": [],
   "source": [
    "df['date'] + pd.Timedelta(1, unit='MS')"
   ]
  },
  {
   "cell_type": "code",
   "execution_count": null,
   "id": "5142f3d8",
   "metadata": {},
   "outputs": [],
   "source": []
  }
 ],
 "metadata": {
  "kernelspec": {
   "display_name": "Python 3",
   "language": "python",
   "name": "python3"
  },
  "language_info": {
   "codemirror_mode": {
    "name": "ipython",
    "version": 3
   },
   "file_extension": ".py",
   "mimetype": "text/x-python",
   "name": "python",
   "nbconvert_exporter": "python",
   "pygments_lexer": "ipython3",
   "version": "3.8.8"
  }
 },
 "nbformat": 4,
 "nbformat_minor": 5
}
