{
 "cells": [
  {
   "cell_type": "markdown",
   "id": "1e333b07",
   "metadata": {},
   "source": [
    "### Exercise 12.02: Binning the Day_Name Variable from the Revenue Dataset"
   ]
  },
  {
   "cell_type": "code",
   "execution_count": null,
   "id": "b3d12ba3",
   "metadata": {},
   "outputs": [],
   "source": [
    "import pandas as pd\n",
    "import numpy as np\n",
    "import matplotlib.pyplot as plt"
   ]
  },
  {
   "cell_type": "code",
   "execution_count": null,
   "id": "b2f5248a",
   "metadata": {},
   "outputs": [],
   "source": [
    "df = pd.read_csv(\"dataset\\Revenue Raw Data.csv\")"
   ]
  },
  {
   "cell_type": "code",
   "execution_count": null,
   "id": "7ab44d26",
   "metadata": {},
   "outputs": [],
   "source": [
    "df.head()"
   ]
  },
  {
   "cell_type": "code",
   "execution_count": null,
   "id": "9d6416b9",
   "metadata": {},
   "outputs": [],
   "source": [
    "df['Day_Name'].nunique()"
   ]
  },
  {
   "cell_type": "code",
   "execution_count": null,
   "id": "2041762f",
   "metadata": {},
   "outputs": [],
   "source": [
    "df['Day_Name'].unique()"
   ]
  },
  {
   "cell_type": "code",
   "execution_count": null,
   "id": "b6bfac63",
   "metadata": {},
   "outputs": [],
   "source": [
    "plt.bar(df['Day_Name'], df['Visitors'])\n",
    "plt.xticks(rotation=45)"
   ]
  },
  {
   "cell_type": "code",
   "execution_count": null,
   "id": "72b1c02b",
   "metadata": {},
   "outputs": [],
   "source": [
    "df['Weekend_bin'] = df['Day_Name']"
   ]
  },
  {
   "cell_type": "code",
   "execution_count": null,
   "id": "a5fcc943",
   "metadata": {},
   "outputs": [],
   "source": [
    "Weekend_list = ['Saturday', 'Sunday']"
   ]
  },
  {
   "cell_type": "code",
   "execution_count": null,
   "id": "b78224af",
   "metadata": {},
   "outputs": [],
   "source": [
    "df.loc[df['Day_Name'].isin(Weekend_list), 'Weekend_bin'] = 'Weekend'"
   ]
  },
  {
   "cell_type": "code",
   "execution_count": null,
   "id": "b6afdb73",
   "metadata": {},
   "outputs": [],
   "source": [
    "df['Weekend_bin'].unique()"
   ]
  },
  {
   "cell_type": "code",
   "execution_count": null,
   "id": "715916fc",
   "metadata": {},
   "outputs": [],
   "source": [
    "df['Weekend_bin'].nunique()"
   ]
  }
 ],
 "metadata": {
  "kernelspec": {
   "display_name": "Python 3",
   "language": "python",
   "name": "python3"
  },
  "language_info": {
   "codemirror_mode": {
    "name": "ipython",
    "version": 3
   },
   "file_extension": ".py",
   "mimetype": "text/x-python",
   "name": "python",
   "nbconvert_exporter": "python",
   "pygments_lexer": "ipython3",
   "version": "3.8.8"
  }
 },
 "nbformat": 4,
 "nbformat_minor": 5
}
