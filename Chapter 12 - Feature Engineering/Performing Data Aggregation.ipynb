{
 "cells": [
  {
   "cell_type": "code",
   "execution_count": null,
   "id": "dc25eae5",
   "metadata": {},
   "outputs": [],
   "source": [
    "import pandas as pd"
   ]
  },
  {
   "cell_type": "code",
   "execution_count": null,
   "id": "bb5e5e35",
   "metadata": {},
   "outputs": [],
   "source": [
    "df = pd.read_csv(\"dataset/catalog.csv\")"
   ]
  },
  {
   "cell_type": "code",
   "execution_count": null,
   "id": "835c11b5",
   "metadata": {},
   "outputs": [],
   "source": [
    "df.head()"
   ]
  },
  {
   "cell_type": "code",
   "execution_count": null,
   "id": "d90506fb",
   "metadata": {},
   "outputs": [],
   "source": [
    "df.groupby('country_name').agg({'population':'sum'})"
   ]
  },
  {
   "cell_type": "code",
   "execution_count": null,
   "id": "b199fa96",
   "metadata": {},
   "outputs": [],
   "source": [
    "df.groupby(['country_name', 'state/province']).agg({'population':'sum'})"
   ]
  },
  {
   "cell_type": "code",
   "execution_count": null,
   "id": "803ab890",
   "metadata": {},
   "outputs": [],
   "source": [
    "df.groupby(['country_name', 'state/province',\\\n",
    "           'city/town']).agg({'population':'sum'})"
   ]
  },
  {
   "cell_type": "code",
   "execution_count": null,
   "id": "af44c290",
   "metadata": {},
   "outputs": [],
   "source": [
    "df_agg = df.groupby(['country_name', 'state/province',\\\n",
    "           'city/town']).agg({'population':'sum'}).reset_index()"
   ]
  },
  {
   "cell_type": "code",
   "execution_count": null,
   "id": "8e29ed90",
   "metadata": {},
   "outputs": [],
   "source": [
    "df_agg.head()"
   ]
  }
 ],
 "metadata": {
  "kernelspec": {
   "display_name": "Python 3",
   "language": "python",
   "name": "python3"
  },
  "language_info": {
   "codemirror_mode": {
    "name": "ipython",
    "version": 3
   },
   "file_extension": ".py",
   "mimetype": "text/x-python",
   "name": "python",
   "nbconvert_exporter": "python",
   "pygments_lexer": "ipython3",
   "version": "3.8.8"
  }
 },
 "nbformat": 4,
 "nbformat_minor": 5
}
