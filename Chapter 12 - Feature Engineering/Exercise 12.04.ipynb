{
 "cells": [
  {
   "cell_type": "markdown",
   "id": "806113b6",
   "metadata": {},
   "source": [
    "### Exercise 12.04: Feature Engineering Using Data Aggregation on Bigmart sales dataset"
   ]
  },
  {
   "cell_type": "code",
   "execution_count": null,
   "id": "9c26c58f",
   "metadata": {},
   "outputs": [],
   "source": [
    "import pandas as pd\n",
    "import numpy as np"
   ]
  },
  {
   "cell_type": "code",
   "execution_count": null,
   "id": "89df3ed1",
   "metadata": {},
   "outputs": [],
   "source": [
    "df = pd.read_csv(\"dataset/Bigmartsales.csv\")\n",
    "df.head()"
   ]
  },
  {
   "cell_type": "code",
   "execution_count": null,
   "id": "e9a81d3e",
   "metadata": {},
   "outputs": [],
   "source": [
    "df.dropna(inplace=True)"
   ]
  },
  {
   "cell_type": "code",
   "execution_count": null,
   "id": "ec595016",
   "metadata": {},
   "outputs": [],
   "source": [
    "df_agg = df.groupby(['Outlet_Size', 'Outlet_Establishment_Year'])\\\n",
    "            .agg({'Item_Outlet_Sales':'max'}).reset_index()"
   ]
  },
  {
   "cell_type": "code",
   "execution_count": null,
   "id": "c6fae883",
   "metadata": {},
   "outputs": [],
   "source": [
    "df_agg.head()"
   ]
  },
  {
   "cell_type": "code",
   "execution_count": null,
   "id": "5bbfe43f",
   "metadata": {},
   "outputs": [],
   "source": [
    "df_agg.columns = ['Outlet_Size', 'Outlet_Establishment_Year', \\\n",
    "                 'Item_Outlet_Sales_Max']"
   ]
  },
  {
   "cell_type": "code",
   "execution_count": null,
   "id": "7464ae83",
   "metadata": {},
   "outputs": [],
   "source": [
    "df_agg.head()"
   ]
  },
  {
   "cell_type": "code",
   "execution_count": null,
   "id": "e3b5dcb8",
   "metadata": {},
   "outputs": [],
   "source": [
    "df_new = pd.merge(df, df_agg, how = 'left', \\\n",
    "                 on=['Outlet_Size', 'Outlet_Establishment_Year'])"
   ]
  },
  {
   "cell_type": "code",
   "execution_count": null,
   "id": "6bb63a5d",
   "metadata": {},
   "outputs": [],
   "source": [
    "df_new.head()"
   ]
  },
  {
   "cell_type": "code",
   "execution_count": null,
   "id": "93191588",
   "metadata": {},
   "outputs": [],
   "source": [
    "df_new['SaleRatio'] = df_new['Item_Outlet_Sales'] \\\n",
    "                           / df_new['Item_Outlet_Sales_Max']"
   ]
  },
  {
   "cell_type": "code",
   "execution_count": null,
   "id": "53c982ca",
   "metadata": {},
   "outputs": [],
   "source": [
    "df_new.head()"
   ]
  },
  {
   "cell_type": "code",
   "execution_count": null,
   "id": "046018a5",
   "metadata": {},
   "outputs": [],
   "source": [
    "df.groupby(['Outlet_Location_Type','Outlet_Establishment_Year'],\\\n",
    "           as_index=False).agg({'Outlet_Size':pd.Series.mode,\\\n",
    "                                'Item_Outlet_Sales':np.mean})"
   ]
  },
  {
   "cell_type": "code",
   "execution_count": null,
   "id": "0537a3b5",
   "metadata": {},
   "outputs": [],
   "source": [
    "df.groupby(['Outlet_Type','Item_Type'])\\\n",
    "        .agg(mean_MRP=('Item_MRP',np.mean),\\\n",
    "             mean_Sales=('Item_Outlet_Sales',np.mean))"
   ]
  },
  {
   "cell_type": "code",
   "execution_count": null,
   "id": "9f09136e",
   "metadata": {},
   "outputs": [],
   "source": []
  },
  {
   "cell_type": "code",
   "execution_count": null,
   "id": "ac90c289",
   "metadata": {},
   "outputs": [],
   "source": []
  },
  {
   "cell_type": "code",
   "execution_count": null,
   "id": "e5d2d415",
   "metadata": {},
   "outputs": [],
   "source": []
  },
  {
   "cell_type": "code",
   "execution_count": null,
   "id": "bdc78f93",
   "metadata": {},
   "outputs": [],
   "source": []
  },
  {
   "cell_type": "code",
   "execution_count": null,
   "id": "46b238c9",
   "metadata": {},
   "outputs": [],
   "source": []
  }
 ],
 "metadata": {
  "kernelspec": {
   "display_name": "Python 3",
   "language": "python",
   "name": "python3"
  },
  "language_info": {
   "codemirror_mode": {
    "name": "ipython",
    "version": 3
   },
   "file_extension": ".py",
   "mimetype": "text/x-python",
   "name": "python",
   "nbconvert_exporter": "python",
   "pygments_lexer": "ipython3",
   "version": "3.8.8"
  }
 },
 "nbformat": 4,
 "nbformat_minor": 5
}
