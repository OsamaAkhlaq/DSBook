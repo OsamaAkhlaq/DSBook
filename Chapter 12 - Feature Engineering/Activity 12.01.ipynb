{
 "cells": [
  {
   "cell_type": "markdown",
   "id": "b7131c2b",
   "metadata": {},
   "source": [
    "### Activity 12.01: Feature Engineering on a Financial Dataset"
   ]
  },
  {
   "cell_type": "code",
   "execution_count": null,
   "id": "1a5d85f3",
   "metadata": {},
   "outputs": [],
   "source": [
    "import pandas as pd"
   ]
  },
  {
   "cell_type": "code",
   "execution_count": null,
   "id": "e4f8180f",
   "metadata": {},
   "outputs": [],
   "source": [
    "df_disp = pd.read_csv(\"dataset/disp.csv\", sep=\";\")\n",
    "df_trans = pd.read_csv(\"dataset/trans.csv\", sep=\";\")\n",
    "df_account = pd.read_csv(\"dataset/account.csv\", sep=\";\")\n",
    "df_client = pd.read_csv(\"dataset/client.csv\", sep=\";\")"
   ]
  },
  {
   "cell_type": "code",
   "execution_count": null,
   "id": "071f85b4",
   "metadata": {},
   "outputs": [],
   "source": [
    "df_disp.head()"
   ]
  },
  {
   "cell_type": "code",
   "execution_count": null,
   "id": "af4f8a8f",
   "metadata": {},
   "outputs": [],
   "source": [
    "df_disp.shape"
   ]
  },
  {
   "cell_type": "code",
   "execution_count": null,
   "id": "88296de1",
   "metadata": {},
   "outputs": [],
   "source": [
    "df_trans.head()"
   ]
  },
  {
   "cell_type": "code",
   "execution_count": null,
   "id": "0536c281",
   "metadata": {},
   "outputs": [],
   "source": [
    "df_trans.shape"
   ]
  },
  {
   "cell_type": "code",
   "execution_count": null,
   "id": "3e559120",
   "metadata": {},
   "outputs": [],
   "source": [
    "df_account.head()"
   ]
  },
  {
   "cell_type": "code",
   "execution_count": null,
   "id": "b48a30df",
   "metadata": {},
   "outputs": [],
   "source": [
    "df_account.shape"
   ]
  },
  {
   "cell_type": "code",
   "execution_count": null,
   "id": "844ed29b",
   "metadata": {},
   "outputs": [],
   "source": [
    "df_client.head()"
   ]
  },
  {
   "cell_type": "code",
   "execution_count": null,
   "id": "8df6e133",
   "metadata": {},
   "outputs": [],
   "source": [
    "df_client.shape"
   ]
  },
  {
   "cell_type": "code",
   "execution_count": null,
   "id": "63c0fb82",
   "metadata": {},
   "outputs": [],
   "source": [
    "df_trans_acc = pd.merge(df_trans, df_account, \\\n",
    "how='left', on='account_id')"
   ]
  },
  {
   "cell_type": "code",
   "execution_count": null,
   "id": "97498233",
   "metadata": {},
   "outputs": [],
   "source": [
    "df_trans_acc.shape"
   ]
  },
  {
   "cell_type": "code",
   "execution_count": null,
   "id": "bed7a265",
   "metadata": {},
   "outputs": [],
   "source": [
    "df_disp_owner = df_disp[df_disp['type'] == 'OWNER']"
   ]
  },
  {
   "cell_type": "code",
   "execution_count": null,
   "id": "df9d620d",
   "metadata": {},
   "outputs": [],
   "source": [
    "df_disp_owner.duplicated(subset='account_id').sum()"
   ]
  },
  {
   "cell_type": "code",
   "execution_count": null,
   "id": "3e3e341f",
   "metadata": {},
   "outputs": [],
   "source": [
    "df_trans_acc_disp = pd.merge(df_trans_acc, df_disp_owner, \\\n",
    "how='left', on='account_id')\n",
    "df_trans_acc_disp.shape"
   ]
  },
  {
   "cell_type": "code",
   "execution_count": null,
   "id": "6e240d72",
   "metadata": {},
   "outputs": [],
   "source": [
    "df_merged = pd.merge(df_trans_acc_disp, df_client, how='left', \\\n",
    "on=['client_id', 'district_id'])\n",
    "df_merged.shape"
   ]
  },
  {
   "cell_type": "code",
   "execution_count": null,
   "id": "3ef5bf61",
   "metadata": {},
   "outputs": [],
   "source": [
    "df_merged.columns"
   ]
  },
  {
   "cell_type": "code",
   "execution_count": null,
   "id": "1075d148",
   "metadata": {},
   "outputs": [],
   "source": [
    "df_merged.rename(columns={'date_x': 'trans_date', \\\n",
    "'type_x': 'trans_type', \\\n",
    "'date_y':'account_creation', \\\n",
    "'type_y':'client_type'}, \\\n",
    "inplace=True)"
   ]
  },
  {
   "cell_type": "code",
   "execution_count": null,
   "id": "3c9bf791",
   "metadata": {},
   "outputs": [],
   "source": [
    "df_merged.head()"
   ]
  },
  {
   "cell_type": "code",
   "execution_count": null,
   "id": "44d94f87",
   "metadata": {},
   "outputs": [],
   "source": [
    "df_merged.dtypes"
   ]
  },
  {
   "cell_type": "code",
   "execution_count": null,
   "id": "d12560a2",
   "metadata": {},
   "outputs": [],
   "source": [
    "df_merged['trans_date'] = pd.to_datetime\\\n",
    "(df_merged['trans_date'], \\\n",
    "format=\"%y%m%d\")\n",
    "df_merged['account_creation'] = pd.to_datetime\\\n",
    "(df_merged['account_creation'],\\\n",
    "format=\"%y%m%d\")"
   ]
  },
  {
   "cell_type": "code",
   "execution_count": null,
   "id": "e144d4f9",
   "metadata": {},
   "outputs": [],
   "source": [
    "df_merged.dtypes"
   ]
  },
  {
   "cell_type": "code",
   "execution_count": null,
   "id": "cf4b3988",
   "metadata": {},
   "outputs": [],
   "source": [
    "df_merged['is_female'] = (df_merged['birth_number'] % 10000) \\\n",
    "/ 5000 > 1"
   ]
  },
  {
   "cell_type": "code",
   "execution_count": null,
   "id": "85f9fdea",
   "metadata": {},
   "outputs": [],
   "source": [
    "df_merged['birth_number'].head()"
   ]
  },
  {
   "cell_type": "code",
   "execution_count": null,
   "id": "1acd8f21",
   "metadata": {},
   "outputs": [],
   "source": [
    "df_merged.loc[df_merged['is_female'] == True, \\\n",
    "'birth_number'] -= 5000"
   ]
  },
  {
   "cell_type": "code",
   "execution_count": null,
   "id": "536ea182",
   "metadata": {},
   "outputs": [],
   "source": [
    "df_merged['birth_number'].head()"
   ]
  },
  {
   "cell_type": "code",
   "execution_count": null,
   "id": "e7ca175d",
   "metadata": {},
   "outputs": [],
   "source": [
    "pd.to_datetime(df_merged['birth_number'], \\\n",
    "format=\"%y%m%d\", errors='coerce')"
   ]
  },
  {
   "cell_type": "code",
   "execution_count": null,
   "id": "c3dd2540",
   "metadata": {},
   "outputs": [],
   "source": [
    "df_merged['birth_number'] = df_merged['birth_number'].astype(str)\n",
    "df_merged['birth_number'].head()"
   ]
  },
  {
   "cell_type": "code",
   "execution_count": null,
   "id": "7cdbb3d1",
   "metadata": {},
   "outputs": [],
   "source": [
    "import numpy as np\n",
    "df_merged.loc[df_merged['birth_number'] == 'nan', \\\n",
    "'birth_number'] = np.nan\n",
    "df_merged['birth_number'].head()"
   ]
  },
  {
   "cell_type": "code",
   "execution_count": null,
   "id": "925c69d9",
   "metadata": {},
   "outputs": [],
   "source": [
    "df_merged.loc[~df_merged['birth_number'].isna(), \\\n",
    "'birth_number'] \\\n",
    "= '19' + df_merged.loc[~df_merged['birth_number']\\\n",
    ".isna(), 'birth_number']\n",
    "df_merged['birth_number'].head()"
   ]
  },
  {
   "cell_type": "code",
   "execution_count": null,
   "id": "fe536a71",
   "metadata": {},
   "outputs": [],
   "source": [
    "df_merged['birth_number'] = pd.to_datetime\\\n",
    "(df_merged['birth_number'], \\\n",
    "format=\"%Y%m%d\", errors='coerce')\n",
    "df_merged['birth_number'].head(20)"
   ]
  },
  {
   "cell_type": "code",
   "execution_count": null,
   "id": "37b704d0",
   "metadata": {},
   "outputs": [],
   "source": [
    "df_merged['age_at_creation'] = df_merged['account_creation'] \\\n",
    "- df_merged['birth_number']"
   ]
  },
  {
   "cell_type": "code",
   "execution_count": null,
   "id": "b6f33220",
   "metadata": {},
   "outputs": [],
   "source": [
    "df_merged['age_at_creation'] = df_merged['age_at_creation'] \\\n",
    "/ np.timedelta64(1,'Y')"
   ]
  },
  {
   "cell_type": "code",
   "execution_count": null,
   "id": "8005b938",
   "metadata": {},
   "outputs": [],
   "source": [
    "df_merged['age_at_creation'] = df_merged['age_at_creation']\\\n",
    ".round()\n",
    "df_merged.head()"
   ]
  },
  {
   "cell_type": "code",
   "execution_count": null,
   "id": "410835ff",
   "metadata": {},
   "outputs": [],
   "source": []
  },
  {
   "cell_type": "code",
   "execution_count": null,
   "id": "383b5be5",
   "metadata": {},
   "outputs": [],
   "source": []
  },
  {
   "cell_type": "code",
   "execution_count": null,
   "id": "4c0fde12",
   "metadata": {},
   "outputs": [],
   "source": []
  },
  {
   "cell_type": "code",
   "execution_count": null,
   "id": "ebf19f2d",
   "metadata": {},
   "outputs": [],
   "source": []
  },
  {
   "cell_type": "code",
   "execution_count": null,
   "id": "c4890d67",
   "metadata": {},
   "outputs": [],
   "source": []
  },
  {
   "cell_type": "code",
   "execution_count": null,
   "id": "35767d43",
   "metadata": {},
   "outputs": [],
   "source": []
  }
 ],
 "metadata": {
  "kernelspec": {
   "display_name": "Python 3",
   "language": "python",
   "name": "python3"
  },
  "language_info": {
   "codemirror_mode": {
    "name": "ipython",
    "version": 3
   },
   "file_extension": ".py",
   "mimetype": "text/x-python",
   "name": "python",
   "nbconvert_exporter": "python",
   "pygments_lexer": "ipython3",
   "version": "3.8.8"
  }
 },
 "nbformat": 4,
 "nbformat_minor": 5
}
