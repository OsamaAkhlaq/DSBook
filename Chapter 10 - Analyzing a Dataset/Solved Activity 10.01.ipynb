{
 "cells": [
  {
   "cell_type": "markdown",
   "id": "e8f79f4e",
   "metadata": {},
   "source": [
    "### Solved Activity 10.01"
   ]
  },
  {
   "cell_type": "markdown",
   "id": "4f001f51",
   "metadata": {},
   "source": [
    "Analyzing Bikes Data Using Visual Data Analysis Techniques"
   ]
  },
  {
   "cell_type": "markdown",
   "id": "e4b6e69d",
   "metadata": {},
   "source": [
    "Import the libraries"
   ]
  },
  {
   "cell_type": "code",
   "execution_count": null,
   "id": "0189257c",
   "metadata": {},
   "outputs": [],
   "source": [
    "import pandas as pd\n",
    "import altair as alt\n",
    "alt.data_transformers.disable_max_rows()"
   ]
  },
  {
   "cell_type": "markdown",
   "id": "8e30dec1",
   "metadata": {},
   "source": [
    "Loading the dataset"
   ]
  },
  {
   "cell_type": "code",
   "execution_count": null,
   "id": "23a8f442",
   "metadata": {},
   "outputs": [],
   "source": [
    "df = pd.read_csv(\"bikes.csv\")"
   ]
  },
  {
   "cell_type": "markdown",
   "id": "e7031847",
   "metadata": {},
   "source": [
    "Explore the structure and content of the dataset by using .shape, .dtypes, .head(), .tail(), or .sample()."
   ]
  },
  {
   "cell_type": "code",
   "execution_count": null,
   "id": "1221f8f2",
   "metadata": {},
   "outputs": [],
   "source": [
    "df.shape"
   ]
  },
  {
   "cell_type": "code",
   "execution_count": null,
   "id": "3e8c5e5b",
   "metadata": {},
   "outputs": [],
   "source": [
    "df.dtypes"
   ]
  },
  {
   "cell_type": "code",
   "execution_count": null,
   "id": "acbc5491",
   "metadata": {},
   "outputs": [],
   "source": [
    "df.head()"
   ]
  },
  {
   "cell_type": "code",
   "execution_count": null,
   "id": "4f9da0a7",
   "metadata": {},
   "outputs": [],
   "source": [
    "df.tail()"
   ]
  },
  {
   "cell_type": "code",
   "execution_count": null,
   "id": "61a7359a",
   "metadata": {},
   "outputs": [],
   "source": [
    "df.sample(5)"
   ]
  },
  {
   "cell_type": "markdown",
   "id": "05b63bfc",
   "metadata": {},
   "source": [
    "Calculate and interpret descriptive statistics with .describe()"
   ]
  },
  {
   "cell_type": "code",
   "execution_count": null,
   "id": "6f80e684",
   "metadata": {},
   "outputs": [],
   "source": [
    "df.describe()"
   ]
  },
  {
   "cell_type": "code",
   "execution_count": null,
   "id": "bf4640cd",
   "metadata": {},
   "outputs": [],
   "source": [
    "df.head()"
   ]
  },
  {
   "cell_type": "markdown",
   "id": "e020ff0b",
   "metadata": {},
   "source": [
    "Analyze each variable using data visualization with bar charts,boxplots."
   ]
  },
  {
   "cell_type": "code",
   "execution_count": null,
   "id": "2228f424",
   "metadata": {},
   "outputs": [],
   "source": [
    "alt.Chart(df).mark_bar()\\\n",
    "   .encode(alt.X(\"temp\", bin=alt.Bin()), y='count()')"
   ]
  },
  {
   "cell_type": "code",
   "execution_count": null,
   "id": "d590677d",
   "metadata": {},
   "outputs": [],
   "source": [
    "alt.Chart(df).mark_boxplot()\\\n",
    "   .encode(x='season:O', y='humidity:Q')"
   ]
  },
  {
   "cell_type": "code",
   "execution_count": null,
   "id": "af3047ac",
   "metadata": {},
   "outputs": [],
   "source": [
    "alt.Chart(df).mark_circle().encode(x='atemp:Q', y='humidity:Q')"
   ]
  },
  {
   "cell_type": "code",
   "execution_count": null,
   "id": "c958b4f9",
   "metadata": {},
   "outputs": [],
   "source": []
  },
  {
   "cell_type": "code",
   "execution_count": null,
   "id": "7a4f0d45",
   "metadata": {},
   "outputs": [],
   "source": []
  },
  {
   "cell_type": "code",
   "execution_count": null,
   "id": "a0218f74",
   "metadata": {},
   "outputs": [],
   "source": []
  }
 ],
 "metadata": {
  "kernelspec": {
   "display_name": "Python 3",
   "language": "python",
   "name": "python3"
  },
  "language_info": {
   "codemirror_mode": {
    "name": "ipython",
    "version": 3
   },
   "file_extension": ".py",
   "mimetype": "text/x-python",
   "name": "python",
   "nbconvert_exporter": "python",
   "pygments_lexer": "ipython3",
   "version": "3.8.8"
  }
 },
 "nbformat": 4,
 "nbformat_minor": 5
}
