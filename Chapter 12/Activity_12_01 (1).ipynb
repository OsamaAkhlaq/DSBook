{
  "cells": [
    {
      "cell_type": "markdown",
      "metadata": {
        "id": "k9Qa3voZ7fJI"
      },
      "source": [
        "## **Activity 12.01**\n",
        "### Feature Engineering on a COVID Cases Dataset"
      ]
    },
    {
      "cell_type": "markdown",
      "metadata": {
        "id": "Fft2t0qX5x6M"
      },
      "source": [
        "### Importing Modules"
      ]
    },
    {
      "cell_type": "code",
      "execution_count": 36,
      "metadata": {
        "id": "sZjKBGy54xuO"
      },
      "outputs": [],
      "source": [
        "import pandas as pd"
      ]
    },
    {
      "cell_type": "markdown",
      "metadata": {
        "id": "c3IntLQx52Sm"
      },
      "source": [
        "### Loading Datasets"
      ]
    },
    {
      "cell_type": "code",
      "execution_count": 47,
      "metadata": {
        "id": "33ryDuRA487G"
      },
      "outputs": [],
      "source": [
        "new_cases = pd.read_csv('https://raw.githubusercontent.com/fenago/DSBook/main/Chapter%2012/new_cases.csv', sep=';')\n",
        "new_deaths = pd.read_csv('https://raw.githubusercontent.com/fenago/DSBook/main/Chapter%2012/new_deaths.csv', sep=';')\n",
        "total_deaths = pd.read_csv('https://raw.githubusercontent.com/fenago/DSBook/main/Chapter%2012/total_deaths.csv', sep=';')\n",
        "total_cases = pd.read_csv('https://raw.githubusercontent.com/fenago/DSBook/main/Chapter%2012/total_cases.csv', sep=';')"
      ]
    },
    {
      "cell_type": "markdown",
      "metadata": {
        "id": "aOWc7iyZ6Ekp"
      },
      "source": [
        "### Print the shape of new_cases using the .shape attribute"
      ]
    },
    {
      "cell_type": "code",
      "execution_count": null,
      "metadata": {
        "id": "Pe2hffAS5AzP"
      },
      "outputs": [],
      "source": [
        "new_cases.head()"
      ]
    },
    {
      "cell_type": "code",
      "execution_count": 39,
      "metadata": {
        "colab": {
          "base_uri": "https://localhost:8080/"
        },
        "id": "Y2vSc6tb5C4j",
        "outputId": "bd19e1a3-8b22-444b-9016-132814a2b268"
      },
      "outputs": [
        {
          "data": {
            "text/plain": [
              "(814, 1)"
            ]
          },
          "execution_count": 39,
          "metadata": {},
          "output_type": "execute_result"
        }
      ],
      "source": [
        "new_cases.shape"
      ]
    },
    {
      "cell_type": "markdown",
      "metadata": {
        "id": "UN-EPBZqWNFy"
      },
      "source": [
        "### Printing the five entries of total_deaths"
      ]
    },
    {
      "cell_type": "code",
      "execution_count": null,
      "metadata": {
        "id": "Fg1uTcuI5J6a"
      },
      "outputs": [],
      "source": [
        "total_deaths.head()"
      ]
    },
    {
      "cell_type": "code",
      "execution_count": null,
      "metadata": {
        "id": "e3qOEif_5O3X"
      },
      "outputs": [],
      "source": [
        "total_deaths.head()"
      ]
    },
    {
      "cell_type": "markdown",
      "metadata": {
        "id": "XJHUW2_N6gRD"
      },
      "source": [
        "### Merge new_cases and new_deaths together using left join on the World. Save the new DataFrame called df_merged and print its shape:"
      ]
    },
    {
      "cell_type": "code",
      "execution_count": null,
      "metadata": {
        "id": "bKOvsW8B5Q3X"
      },
      "outputs": [],
      "source": [
        "df_merged = pd.merge(new_cases, new_deaths, how='left', on=['World'])\n",
        "df_merged.shape"
      ]
    },
    {
      "cell_type": "code",
      "execution_count": null,
      "metadata": {
        "id": "9Ht3xl_Y5SN-"
      },
      "outputs": [],
      "source": [
        "df_merged.columns"
      ]
    }
  ],
  "metadata": {
    "colab": {
      "collapsed_sections": [
        "UN-EPBZqWNFy"
      ],
      "name": "Activity_12_01.ipynb",
      "provenance": []
    },
    "kernelspec": {
      "display_name": "Python 3",
      "name": "python3"
    },
    "language_info": {
      "name": "python"
    }
  },
  "nbformat": 4,
  "nbformat_minor": 0
}
