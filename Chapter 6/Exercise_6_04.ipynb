{
  "nbformat": 4,
  "nbformat_minor": 0,
  "metadata": {
    "colab": {
      "name": "Exercise 6.04",
      "provenance": [],
      "collapsed_sections": []
    },
    "kernelspec": {
      "name": "python3",
      "display_name": "Python 3"
    },
    "language_info": {
      "name": "python"
    }
  },
  "cells": [
    {
      "cell_type": "markdown",
      "source": [
        "## Exercise 6.04\n",
        "### Computing the Mean Absolute Error of a second Model"
      ],
      "metadata": {
        "id": "QAiQYjIXAbJz"
      }
    },
    {
      "cell_type": "code",
      "execution_count": null,
      "metadata": {
        "id": "-7tn1SUyACRX",
        "cellView": "form"
      },
      "outputs": [],
      "source": [
        "#@title Importing Libraries\n",
        "# Import libraries\n",
        "import pandas as pd\n",
        "from sklearn.model_selection import train_test_split\n",
        "from sklearn.linear_model import LinearRegression\n",
        "from sklearn.metrics import mean_absolute_error\n",
        "# pipeline\n",
        "from sklearn.pipeline import Pipeline\n",
        "# preprocessing\n",
        "from sklearn.preprocessing import MinMaxScaler\n",
        "from sklearn.preprocessing import StandardScaler\n",
        "from sklearn.preprocessing import PolynomialFeatures"
      ]
    },
    {
      "cell_type": "code",
      "source": [
        "#@title Creating Header and Reading Data\n",
        "header_list=[\"LATITUDE\",\"LONGITUDE\",\"PARCELNO\",\"SALE_PRC\",\"LND_SQFOOT\",\"TOT_LVG_AREA\",\"SPEC_FEAT_VAL\",\"RAIL_DIST\",\"OCEAN_DIST\",\"WATER_DIST\",\"CNTR_DIST\",\"SUBCNTR_DI\",\"HWY_DIST\",\"age\",\"avno60plus\",\"month_sold\",\"structure_quality\"]\n",
        "#Reading Data\n",
        "data_frame= pd.read_csv('https://raw.githubusercontent.com/fenago/DSBook/main/Chapter%206/miami-housing.csv',names=header_list,index_col=None)\n",
        "data_frame.head()"
      ],
      "metadata": {
        "id": "xh4EjoMLAx-A",
        "cellView": "form"
      },
      "execution_count": null,
      "outputs": []
    },
    {
      "cell_type": "code",
      "source": [
        "#@title Split the data into features and labels and into training and evaluation datasets\n",
        "# Let's split our data\n",
        "features = data_frame.drop('SALE_PRC', axis=1).values\n",
        "labels = data_frame[['SALE_PRC']].values\n",
        "X_train, X_eval, y_train, y_eval = train_test_split(features, labels,test_size=0.2, random_state=0)\n",
        "X_val, X_test, y_val, y_test = train_test_split(X_eval, y_eval,\\\n",
        "                                                random_state=0)"
      ],
      "metadata": {
        "id": "D1yk8b6MBcbK",
        "cellView": "form"
      },
      "execution_count": null,
      "outputs": []
    },
    {
      "cell_type": "code",
      "source": [
        "#@title Creating a Pipeline\n",
        "# create a pipeline and engineer quadratic features\n",
        "steps = [('scaler', MinMaxScaler()),\\\n",
        "         ('poly', PolynomialFeatures(2)),\\\n",
        "         ('model', LinearRegression())]"
      ],
      "metadata": {
        "cellView": "form",
        "id": "D7WIfhbYFQjt"
      },
      "execution_count": null,
      "outputs": []
    },
    {
      "cell_type": "code",
      "source": [
        "#@title Creating a Regression Model With Pipeline\n",
        "# create a simple Linear Regression model with a pipeline\n",
        "model = Pipeline(steps)"
      ],
      "metadata": {
        "id": "gpK_3w1OHn6Q",
        "cellView": "form"
      },
      "execution_count": null,
      "outputs": []
    },
    {
      "cell_type": "code",
      "source": [
        "#@title Training the model\n",
        "# train the model\n",
        "model.fit(X_train, y_train)"
      ],
      "metadata": {
        "id": "pJx48o9-HqPE",
        "cellView": "form"
      },
      "execution_count": null,
      "outputs": []
    },
    {
      "cell_type": "code",
      "source": [
        "#@title Making a prediction\n",
        "# let's use our model to predict on our validation dataset\n",
        "y_pred = model.predict(X_val)"
      ],
      "metadata": {
        "id": "mcADLY4_Ht8F",
        "cellView": "form"
      },
      "execution_count": null,
      "outputs": []
    },
    {
      "cell_type": "code",
      "source": [
        "#@title Computing the Mean Absolute Value of Model\n",
        "# Let's compute our MEAN ABSOLUTE ERROR\n",
        "mae = mean_absolute_error(y_val, y_pred)\n",
        "print('MAE: {}'.format(mae))"
      ],
      "metadata": {
        "id": "QinV5C-kHu3A",
        "cellView": "form"
      },
      "execution_count": null,
      "outputs": []
    },
    {
      "cell_type": "code",
      "source": [
        "#@title Computing the R^2 Score\n",
        "# Let's get the R2 score\n",
        "r2 = model.score(X_val, y_val)\n",
        "print('R^2 score: {}'.format(r2))"
      ],
      "metadata": {
        "id": "sZgzgcU2Hzn1",
        "cellView": "form"
      },
      "execution_count": null,
      "outputs": []
    }
  ]
}