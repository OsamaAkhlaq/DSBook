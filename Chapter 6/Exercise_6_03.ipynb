{
  "nbformat": 4,
  "nbformat_minor": 0,
  "metadata": {
    "colab": {
      "name": "Exercise 6.03",
      "provenance": [],
      "collapsed_sections": []
    },
    "kernelspec": {
      "name": "python3",
      "display_name": "Python 3"
    },
    "language_info": {
      "name": "python"
    }
  },
  "cells": [
    {
      "cell_type": "markdown",
      "source": [
        "## Exercise 6.03\n",
        "### Computing the Mean Absolute Error of a Model"
      ],
      "metadata": {
        "id": "QAiQYjIXAbJz"
      }
    },
    {
      "cell_type": "code",
      "execution_count": null,
      "metadata": {
        "id": "-7tn1SUyACRX",
        "cellView": "form"
      },
      "outputs": [],
      "source": [
        "#@title Importing Libraries\n",
        "# Import libraries\n",
        "import pandas as pd\n",
        "from sklearn.model_selection import train_test_split\n",
        "from sklearn.linear_model import LinearRegression\n",
        "from sklearn.metrics import mean_absolute_error"
      ]
    },
    {
      "cell_type": "code",
      "source": [
        "#@title Creating Header and Reading Data\n",
        "header_list=[\"LATITUDE\",\"LONGITUDE\",\"PARCELNO\",\"SALE_PRC\",\"LND_SQFOOT\",\"TOT_LVG_AREA\",\"SPEC_FEAT_VAL\",\"RAIL_DIST\",\"OCEAN_DIST\",\"WATER_DIST\",\"CNTR_DIST\",\"SUBCNTR_DI\",\"HWY_DIST\",\"age\",\"avno60plus\",\"month_sold\",\"structure_quality\"]\n",
        "#Reading Data\n",
        "data_frame= pd.read_csv('https://raw.githubusercontent.com/fenago/DSBook/main/Chapter%206/miami-housing.csv',names=header_list,index_col=None)\n",
        "data_frame.head()"
      ],
      "metadata": {
        "id": "xh4EjoMLAx-A",
        "cellView": "form"
      },
      "execution_count": null,
      "outputs": []
    },
    {
      "cell_type": "code",
      "source": [
        "#@title Split the data into features and labels and into training and evaluation datasets\n",
        "\n",
        "# Let's split our data\n",
        "features = data_frame.drop('SALE_PRC', axis=1).values\n",
        "labels = data_frame[['SALE_PRC']].values\n",
        "X_train, X_eval, y_train, y_eval = train_test_split\\\n",
        "                                   (features, labels, \\\n",
        "                                    test_size=0.2, \\\n",
        "random_state=0)\n",
        "X_val, X_test, y_val, y_test = train_test_split(X_eval, y_eval,\\\n",
        "                                                random_state=0)"
      ],
      "metadata": {
        "id": "D1yk8b6MBcbK",
        "cellView": "form"
      },
      "execution_count": null,
      "outputs": []
    },
    {
      "cell_type": "code",
      "source": [
        "#@title Creating a Regression Model and Training the model\n",
        "model = LinearRegression()\n",
        "model.fit(X_train, y_train)"
      ],
      "metadata": {
        "id": "gpK_3w1OHn6Q",
        "cellView": "form"
      },
      "execution_count": null,
      "outputs": []
    },
    {
      "cell_type": "code",
      "source": [
        "#@title Making a prediction\n",
        "y_pred = model.predict(X_val)"
      ],
      "metadata": {
        "id": "mcADLY4_Ht8F",
        "cellView": "form"
      },
      "execution_count": null,
      "outputs": []
    },
    {
      "cell_type": "code",
      "source": [
        "#@title Claculating Mean Absolute Error\n",
        "mae = mean_absolute_error(y_val, y_pred)\n",
        "print('MAE: {}'.format(mae))"
      ],
      "metadata": {
        "cellView": "form",
        "id": "072CnFbfmp07"
      },
      "execution_count": null,
      "outputs": []
    },
    {
      "cell_type": "code",
      "source": [
        "#@title Computing the R^2 score\n",
        "r2 = model.score(X_val, y_val)\n",
        "print('R^2 score: {}'.format(r2))"
      ],
      "metadata": {
        "id": "QinV5C-kHu3A",
        "cellView": "form"
      },
      "execution_count": null,
      "outputs": []
    }
  ]
}