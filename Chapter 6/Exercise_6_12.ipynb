{
  "nbformat": 4,
  "nbformat_minor": 0,
  "metadata": {
    "colab": {
      "name": "Exercise 6.12",
      "provenance": [],
      "collapsed_sections": []
    },
    "kernelspec": {
      "name": "python3",
      "display_name": "Python 3"
    },
    "language_info": {
      "name": "python"
    }
  },
  "cells": [
    {
      "cell_type": "markdown",
      "source": [
        "## Exercise 6.12\n",
        "### Computing and Plotting ROC Curve for a Binary Classification Problem"
      ],
      "metadata": {
        "id": "QAiQYjIXAbJz"
      }
    },
    {
      "cell_type": "code",
      "execution_count": null,
      "metadata": {
        "id": "8BjtLOkzJ5G_",
        "cellView": "form"
      },
      "outputs": [],
      "source": [
        "#@title Importing Libraries\n",
        "\n",
        "# import libraries\n",
        "import pandas as pd\n",
        "from sklearn.model_selection import train_test_split\n",
        "from sklearn.linear_model import LogisticRegression\n",
        "from sklearn.metrics import roc_curve\n",
        "from sklearn.metrics import auc"
      ]
    },
    {
      "cell_type": "code",
      "source": [
        "#@title Creating Header and Reading Data\n",
        "header_list=[\"LATITUDE\",\"LONGITUDE\",\"PARCELNO\",\"SALE_PRC\",\"LND_SQFOOT\",\"TOT_LVG_AREA\",\"SPEC_FEAT_VAL\",\"RAIL_DIST\",\"OCEAN_DIST\",\"WATER_DIST\",\"CNTR_DIST\",\"SUBCNTR_DI\",\"HWY_DIST\",\"age\",\"avno60plus\",\"month_sold\",\"structure_quality\"]\n",
        "#Reading Data\n",
        "data_frame= pd.read_csv('https://raw.githubusercontent.com/fenago/datasets/main/BankNote_Authentication.csv',index_col=None)\n",
        "data_frame.head()"
      ],
      "metadata": {
        "id": "qZQPx98qyBeC",
        "cellView": "form"
      },
      "execution_count": null,
      "outputs": []
    },
    {
      "cell_type": "code",
      "source": [
        "#@title Split the data into features and labels and into training and evaluation datasets\n",
        "# Let's split our data\n",
        "features = data_frame.drop('class', axis=1).values\n",
        "labels = data_frame[['class']].values\n",
        "X_train, X_eval, y_train, y_eval = train_test_split(features, labels,test_size=0.2, random_state=0)\n",
        "X_val, X_test, y_val, y_test = train_test_split(X_eval, y_eval,\\\n",
        "                                                random_state=0)"
      ],
      "metadata": {
        "id": "Cs04ONK0yBeE",
        "cellView": "form"
      },
      "execution_count": null,
      "outputs": []
    },
    {
      "cell_type": "code",
      "source": [
        "#@title Creating and Training a Logistic Regression Model\n",
        "# train a Logistic Regression model\n",
        "model = LogisticRegression()\n",
        "model.fit(X_train, y_train)"
      ],
      "metadata": {
        "id": "gpK_3w1OHn6Q",
        "cellView": "form"
      },
      "execution_count": null,
      "outputs": []
    },
    {
      "cell_type": "code",
      "source": [
        "#@title Making a prediction of Probability\n",
        "# make predictions for the validation set\n",
        "prob_y = model.predict_proba(X_val)"
      ],
      "metadata": {
        "id": "mcADLY4_Ht8F",
        "cellView": "form"
      },
      "execution_count": null,
      "outputs": []
    },
    {
      "cell_type": "code",
      "execution_count": null,
      "metadata": {
        "id": "-7tn1SUyACRX",
        "cellView": "form"
      },
      "outputs": [],
      "source": [
        "#@title Computing the true positive rate, the false positive rate, and the thresholds\n",
        "\n",
        "false_positive, true_positive, thresholds = roc_curve (y_val,prob_y[:, 0])"
      ]
    },
    {
      "cell_type": "code",
      "source": [
        "#@title Exploring the False Positive Rates\n",
        "\n",
        "print(false_positive)"
      ],
      "metadata": {
        "id": "xh4EjoMLAx-A",
        "cellView": "form"
      },
      "execution_count": null,
      "outputs": []
    },
    {
      "cell_type": "code",
      "source": [
        "#@title Exploring the True Positive Rates\n",
        "\n",
        "print(true_positive)"
      ],
      "metadata": {
        "id": "FfdzwCXTOcQN",
        "cellView": "form"
      },
      "execution_count": null,
      "outputs": []
    },
    {
      "cell_type": "code",
      "source": [
        "#@title Exploring the Threshold Rates\n",
        "\n",
        "print(thresholds)"
      ],
      "metadata": {
        "id": "h0gpfeCzOg3q",
        "cellView": "form"
      },
      "execution_count": null,
      "outputs": []
    },
    {
      "cell_type": "code",
      "source": [
        "#@title Plotting the ROC curve\n",
        "\n",
        "# Plot the RoC\n",
        "import matplotlib.pyplot as plt\n",
        "%matplotlib inline\n",
        "plt.plot(false_positive, true_positive, lw=2, \\\n",
        "         label='Receiver Operating Characteristic')\n",
        "plt.xlim(0.0, 1.2)\n",
        "plt.ylim(0.0, 1.2)\n",
        "plt.xlabel('False Positive Rate')\n",
        "plt.ylabel('True Positive Rate')\n",
        "plt.title('Receiver Operating Characteristic')\n",
        "plt.show()"
      ],
      "metadata": {
        "id": "KWjaGIxmOnvT",
        "cellView": "form"
      },
      "execution_count": null,
      "outputs": []
    }
  ]
}