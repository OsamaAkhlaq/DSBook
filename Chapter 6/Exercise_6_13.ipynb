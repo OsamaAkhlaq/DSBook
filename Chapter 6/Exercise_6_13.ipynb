{
  "nbformat": 4,
  "nbformat_minor": 0,
  "metadata": {
    "colab": {
      "name": "Exercise 6.13",
      "provenance": [],
      "collapsed_sections": []
    },
    "kernelspec": {
      "name": "python3",
      "display_name": "Python 3"
    },
    "language_info": {
      "name": "python"
    }
  },
  "cells": [
    {
      "cell_type": "markdown",
      "source": [
        "## Exercise 6.13\n",
        "###  Computing the ROC AUC for the Caesarian Dataset"
      ],
      "metadata": {
        "id": "QAiQYjIXAbJz"
      }
    },
    {
      "cell_type": "code",
      "execution_count": null,
      "metadata": {
        "id": "8BjtLOkzJ5G_",
        "cellView": "form"
      },
      "outputs": [],
      "source": [
        "#@title Importing Libraries\n",
        "\n",
        "# import libraries\n",
        "import pandas as pd\n",
        "from sklearn.model_selection import train_test_split\n",
        "from sklearn.linear_model import LogisticRegression\n",
        "from sklearn.metrics import roc_curve\n",
        "from sklearn.metrics import auc"
      ]
    },
    {
      "cell_type": "code",
      "source": [
        "#@title Creating Header and Reading Data\n",
        "#Reading Data\n",
        "data_frame= pd.read_csv('https://raw.githubusercontent.com/fenago/datasets/main/BankNote_Authentication.csv',index_col=None)\n",
        "data_frame.head()"
      ],
      "metadata": {
        "id": "qZQPx98qyBeC",
        "cellView": "form"
      },
      "execution_count": null,
      "outputs": []
    },
    {
      "cell_type": "code",
      "source": [
        "#@title Split the data into features and labels and into training and evaluation datasets\n",
        "# Let's split our data\n",
        "features = data_frame.drop('class', axis=1).values\n",
        "labels = data_frame[['class']].values\n",
        "X_train, X_eval, y_train, y_eval = train_test_split(features, labels,test_size=0.2, random_state=0)\n",
        "X_val, X_test, y_val, y_test = train_test_split(X_eval, y_eval,\\\n",
        "                                                random_state=0)"
      ],
      "metadata": {
        "id": "Cs04ONK0yBeE",
        "cellView": "form"
      },
      "execution_count": null,
      "outputs": []
    },
    {
      "cell_type": "code",
      "source": [
        "#@title Creating and Training a Logistic Regression Model\n",
        "# train a Logistic Regression model\n",
        "model = LogisticRegression()\n",
        "model.fit(X_train, y_train)"
      ],
      "metadata": {
        "id": "gpK_3w1OHn6Q",
        "cellView": "form"
      },
      "execution_count": null,
      "outputs": []
    },
    {
      "cell_type": "code",
      "source": [
        "#@title Making a prediction of Probability\n",
        "# make predictions for the validation set\n",
        "prob_y = model.predict_proba(X_val)"
      ],
      "metadata": {
        "id": "mcADLY4_Ht8F",
        "cellView": "form"
      },
      "execution_count": null,
      "outputs": []
    },
    {
      "cell_type": "code",
      "source": [
        "#@title Computing the ROC AUC curve\n",
        "\n",
        "from sklearn.metrics import roc_auc_score\n",
        "roc_auc = roc_auc_score(y_val, prob_y[:, 0])\n",
        "print(roc_auc)"
      ],
      "metadata": {
        "id": "KWjaGIxmOnvT",
        "cellView": "form"
      },
      "execution_count": null,
      "outputs": []
    }
  ]
}