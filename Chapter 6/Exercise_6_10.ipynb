{
  "nbformat": 4,
  "nbformat_minor": 0,
  "metadata": {
    "colab": {
      "name": "Exercise 6.10",
      "provenance": [],
      "collapsed_sections": []
    },
    "kernelspec": {
      "name": "python3",
      "display_name": "Python 3"
    },
    "language_info": {
      "name": "python"
    }
  },
  "cells": [
    {
      "cell_type": "markdown",
      "source": [
        "## Exercise 6.10\n",
        "### Computing Model Accuracy for the Classification Model"
      ],
      "metadata": {
        "id": "QAiQYjIXAbJz"
      }
    },
    {
      "cell_type": "code",
      "execution_count": null,
      "metadata": {
        "id": "8BjtLOkzJ5G_",
        "cellView": "form"
      },
      "outputs": [],
      "source": [
        "#@title Importing Libraries\n",
        "\n",
        "# import libraries\n",
        "import pandas as pd\n",
        "from sklearn.model_selection import train_test_split\n",
        "from sklearn.linear_model import LogisticRegression"
      ]
    },
    {
      "cell_type": "code",
      "source": [
        "#@title Read in the data\n",
        "\n",
        "# data doesn't have headers, so let's create headers\n",
        "header_list = ['buying', 'maint', 'doors', 'persons', 'lug_boot', 'safety', 'car']\n",
        "# read in cars dataset\n",
        "data_frame = pd.read_csv('https://raw.githubusercontent.com/fenago/DSBook/main/Chapter%207/car.data', names=header_list, index_col=None)\n",
        "data_frame.dropna()\n",
        "data_frame.head()"
      ],
      "metadata": {
        "id": "TOQ9RDZNSZm9",
        "cellView": "form"
      },
      "execution_count": null,
      "outputs": []
    },
    {
      "cell_type": "code",
      "source": [
        "#@title Encoding categorical variables \n",
        "\n",
        "# encode categorical variables\n",
        "data_frame_1 = pd.get_dummies(data_frame, columns=['buying', 'maint', 'doors', 'persons', 'lug_boot', 'safety'])\n",
        "data_frame_1.head()"
      ],
      "metadata": {
        "id": "D7WIfhbYFQjt",
        "cellView": "form"
      },
      "execution_count": null,
      "outputs": []
    },
    {
      "cell_type": "code",
      "source": [
        "#@title Split the data into features and labels and into training and evaluation datasets\n",
        "# Let's split our data\n",
        "features = data_frame_1.drop('car', axis=1).values\n",
        "labels = data_frame_1[['car']].values\n",
        "X_train, X_eval, y_train, y_eval = train_test_split(features, labels,test_size=0.2, random_state=0)\n",
        "X_val, X_test, y_val, y_test = train_test_split(X_eval, y_eval,\\\n",
        "                                                random_state=0)"
      ],
      "metadata": {
        "id": "D1yk8b6MBcbK",
        "cellView": "form"
      },
      "execution_count": null,
      "outputs": []
    },
    {
      "cell_type": "code",
      "source": [
        "#@title Creating and Training a Logistic Regression Model\n",
        "# train a Logistic Regression model\n",
        "model = LogisticRegression()\n",
        "model.fit(X_train, y_train)"
      ],
      "metadata": {
        "id": "gpK_3w1OHn6Q",
        "cellView": "form"
      },
      "execution_count": null,
      "outputs": []
    },
    {
      "cell_type": "code",
      "source": [
        "#@title Making a prediction\n",
        "# make predictions for the validation set\n",
        "y_pred = model.predict(X_val)"
      ],
      "metadata": {
        "id": "mcADLY4_Ht8F",
        "cellView": "form"
      },
      "execution_count": null,
      "outputs": []
    },
    {
      "cell_type": "code",
      "execution_count": null,
      "metadata": {
        "id": "-7tn1SUyACRX",
        "cellView": "form"
      },
      "outputs": [],
      "source": [
        "#@title Importing Accuracy Score Library\n",
        "\n",
        "from sklearn.metrics import accuracy_score"
      ]
    },
    {
      "cell_type": "code",
      "source": [
        "#@title Computing the Accuracy score\n",
        "\n",
        "model_accuracy = accuracy_score(y_val, y_pred)\n",
        "print(model_accuracy)"
      ],
      "metadata": {
        "id": "xh4EjoMLAx-A",
        "cellView": "form"
      },
      "execution_count": null,
      "outputs": []
    }
  ]
}