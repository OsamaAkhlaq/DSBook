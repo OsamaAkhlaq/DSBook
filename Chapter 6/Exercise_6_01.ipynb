{
  "nbformat": 4,
  "nbformat_minor": 0,
  "metadata": {
    "colab": {
      "name": "Exercise 6.01",
      "provenance": [],
      "collapsed_sections": []
    },
    "kernelspec": {
      "name": "python3",
      "display_name": "Python 3"
    },
    "language_info": {
      "name": "python"
    }
  },
  "cells": [
    {
      "cell_type": "markdown",
      "source": [
        "## Exercise 6.01\n",
        "### Training and Splitting Data"
      ],
      "metadata": {
        "id": "esrKWuw07N5J"
      }
    },
    {
      "cell_type": "code",
      "execution_count": null,
      "metadata": {
        "cellView": "form",
        "id": "PCb4daQb692k"
      },
      "outputs": [],
      "source": [
        "#@title Importing Libraries\n",
        "import pandas as pd\n",
        "from sklearn.model_selection import train_test_split"
      ]
    },
    {
      "cell_type": "code",
      "source": [
        "#@title Creating Header List\n",
        "\n",
        "header_list = [\"\",\"carat\",\"cut\",\"color\",\"clarity\",\"depth\",\"table\",\"price\",\"x\",\"y\",\"z\"]"
      ],
      "metadata": {
        "cellView": "form",
        "id": "Cs1Hx7bl7gcH"
      },
      "execution_count": null,
      "outputs": []
    },
    {
      "cell_type": "code",
      "source": [
        "#@title Reading Data\n",
        "\n",
        "#Reading Data\n",
        "data_frame = pd.read_csv('https://raw.githubusercontent.com/fenago/DSBook/main/Chapter%206/diamonds.csv', \\\n",
        "                 names=header_list, index_col=None)"
      ],
      "metadata": {
        "cellView": "form",
        "id": "s81er_eC7-rl"
      },
      "execution_count": null,
      "outputs": []
    },
    {
      "cell_type": "code",
      "source": [
        "#@title Printing Top 5 Records\n",
        "data_frame.head()"
      ],
      "metadata": {
        "cellView": "form",
        "id": "TQnrRcGU8oJj"
      },
      "execution_count": null,
      "outputs": []
    },
    {
      "cell_type": "code",
      "source": [
        "#@title Creating a training and an evaluation DataFrame\n",
        "train_data, evaluate_data = train_test_split(data_frame, test_size=0.3, \\\n",
        "                                        random_state=0)"
      ],
      "metadata": {
        "cellView": "form",
        "id": "eSCjLhTm9ngb"
      },
      "execution_count": null,
      "outputs": []
    },
    {
      "cell_type": "code",
      "source": [
        "#@title Creating a validation and test dataset\n",
        "valid_set, test_set = train_test_split(evaluate_data, test_size=0.5, \\\n",
        "                                    random_state=0)"
      ],
      "metadata": {
        "cellView": "form",
        "id": "6xVcspRD90Ot"
      },
      "execution_count": null,
      "outputs": []
    }
  ]
}