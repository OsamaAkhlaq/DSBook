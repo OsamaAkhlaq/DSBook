{
  "nbformat": 4,
  "nbformat_minor": 0,
  "metadata": {
    "colab": {
      "name": "Activity 6.01",
      "provenance": [],
      "collapsed_sections": []
    },
    "kernelspec": {
      "name": "python3",
      "display_name": "Python 3"
    },
    "language_info": {
      "name": "python"
    }
  },
  "cells": [
    {
      "cell_type": "markdown",
      "source": [
        "## Activity 6.01\n",
        "### Train Three Different Models and Use Evaluation Metrics to Pick the Best Performing Model"
      ],
      "metadata": {
        "id": "9YRhL4YISG7f"
      }
    },
    {
      "cell_type": "code",
      "source": [
        "#@title Load The necessary Libraries\n",
        "# import libraries\n",
        "import pandas as pd\n",
        "from sklearn.model_selection import train_test_split\n",
        "from sklearn.linear_model import LogisticRegression\n",
        "from sklearn.metrics import roc_curve\n",
        "from sklearn.metrics import auc"
      ],
      "metadata": {
        "id": "gDsx1jvCSO4Z",
        "cellView": "form"
      },
      "execution_count": null,
      "outputs": []
    },
    {
      "cell_type": "code",
      "source": [
        "#@title Read in the data\n",
        "\n",
        "#Reading Data\n",
        "data_frame= pd.read_csv('https://raw.githubusercontent.com/fenago/DSBook/main/Chapter%202/Housing.csv',names=header_list,index_col=None)\n"
      ],
      "metadata": {
        "id": "TOQ9RDZNSZm9",
        "cellView": "form"
      },
      "execution_count": null,
      "outputs": []
    },
    {
      "cell_type": "code",
      "source": [
        "#@title Explore the data\n",
        "\n",
        "data_frame.head()"
      ],
      "metadata": {
        "id": "6oa2Mwr1Sd8E",
        "cellView": "form"
      },
      "execution_count": null,
      "outputs": []
    },
    {
      "cell_type": "code",
      "source": [
        "#@title Convert categorical variables using pandas.get_dummies()\n"
      ],
      "metadata": {
        "id": "qwLKDgrsSgVs",
        "cellView": "form"
      },
      "execution_count": null,
      "outputs": []
    },
    {
      "cell_type": "code",
      "source": [
        "#@title Prepare the X and y variables\n"
      ],
      "metadata": {
        "id": "CYWuGaYzSnsI",
        "cellView": "form"
      },
      "execution_count": null,
      "outputs": []
    },
    {
      "cell_type": "code",
      "source": [
        "#@title Split the data into training and evaluation sets\n"
      ],
      "metadata": {
        "id": "ijCYPW8FSvFH",
        "cellView": "form"
      },
      "execution_count": null,
      "outputs": []
    },
    {
      "cell_type": "code",
      "source": [
        "#@title Create an instance of LogisticRegression\n"
      ],
      "metadata": {
        "id": "Uu3IiRbSSyMt",
        "cellView": "form"
      },
      "execution_count": null,
      "outputs": []
    },
    {
      "cell_type": "code",
      "source": [
        "#@title Fit the training data to the LogisticRegression model\n"
      ],
      "metadata": {
        "id": "utzeDSSVS2z8",
        "cellView": "form"
      },
      "execution_count": null,
      "outputs": []
    },
    {
      "cell_type": "code",
      "source": [
        "#@title Use the evaluation set to make a prediction\n"
      ],
      "metadata": {
        "id": "seBfSKjKTA6E",
        "cellView": "form"
      },
      "execution_count": null,
      "outputs": []
    },
    {
      "cell_type": "code",
      "source": [
        "#@title Use the prediction from the LogisticRegression model to compute the classification report.\n"
      ],
      "metadata": {
        "id": "Lvoo76xvTEzl",
        "cellView": "form"
      },
      "execution_count": null,
      "outputs": []
    },
    {
      "cell_type": "code",
      "source": [
        "#@title Create an instance of DecisionTreeClassifier\n"
      ],
      "metadata": {
        "id": "B2op0n9fTO1W",
        "cellView": "form"
      },
      "execution_count": null,
      "outputs": []
    },
    {
      "cell_type": "code",
      "source": [
        "#@title Fit the training data to the DecisionTreeClassifier model\n"
      ],
      "metadata": {
        "id": "boF3-baZTXDz",
        "cellView": "form"
      },
      "execution_count": null,
      "outputs": []
    },
    {
      "cell_type": "code",
      "source": [
        "#@title Using the DecisionTreeClassifier model, make a prediction on the evaluation dataset\n"
      ],
      "metadata": {
        "id": "QwnFKhSSTcJR",
        "cellView": "form"
      },
      "execution_count": null,
      "outputs": []
    },
    {
      "cell_type": "code",
      "source": [
        "#@title Use the prediction from the DecisionTreeClassifier model to compute the classification report\n"
      ],
      "metadata": {
        "id": "ng9XUoGtThp7",
        "cellView": "form"
      },
      "execution_count": null,
      "outputs": []
    },
    {
      "cell_type": "code",
      "source": [
        "#@title Compare the classification report from the linear regression model and the classification report from the decision tree classifier to determine which is the better model.\n"
      ],
      "metadata": {
        "id": "8zKXXhq_Ts-f",
        "cellView": "form"
      },
      "execution_count": null,
      "outputs": []
    },
    {
      "cell_type": "code",
      "source": [
        "#@title Create an instance of RandomForestClassifier\n"
      ],
      "metadata": {
        "id": "Z9ApF5HOTy41",
        "cellView": "form"
      },
      "execution_count": null,
      "outputs": []
    },
    {
      "cell_type": "code",
      "source": [
        "#@title Fit the training data to the RandomForestClassifier model\n"
      ],
      "metadata": {
        "id": "l3Rye7ivT3YX",
        "cellView": "form"
      },
      "execution_count": null,
      "outputs": []
    },
    {
      "cell_type": "code",
      "source": [
        "#@title Using the RandomForestClassifier model, make a prediction on the evaluation dataset\n"
      ],
      "metadata": {
        "id": "Es8BpqC3T5y8",
        "cellView": "form"
      },
      "execution_count": null,
      "outputs": []
    },
    {
      "cell_type": "code",
      "source": [
        "#@title Using the prediction from the random forest classifier, compute the classification report\n"
      ],
      "metadata": {
        "id": "UZs5D-PxT6cL",
        "cellView": "form"
      },
      "execution_count": null,
      "outputs": []
    },
    {
      "cell_type": "code",
      "source": [
        "#@title Compare the classification report from the linear regression model with the classification report from the random forest classifier to decide which model to keep or improve upon.\n",
        "\n"
      ],
      "metadata": {
        "id": "eyjFXKjwUI0a",
        "cellView": "form"
      },
      "execution_count": null,
      "outputs": []
    },
    {
      "cell_type": "code",
      "source": [
        "#@title Compare the R2 scores of all three models\n"
      ],
      "metadata": {
        "id": "KjJHJgznUTi-",
        "cellView": "form"
      },
      "execution_count": null,
      "outputs": []
    }
  ]
}