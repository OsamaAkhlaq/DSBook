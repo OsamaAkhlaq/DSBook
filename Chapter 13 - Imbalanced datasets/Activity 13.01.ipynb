{
 "cells": [
  {
   "cell_type": "markdown",
   "id": "6d7ee875",
   "metadata": {},
   "source": [
    "### Finding the Best Balancing Technique by Fitting a Classifier on the HealthCare Dataset"
   ]
  },
  {
   "cell_type": "code",
   "execution_count": null,
   "id": "a2ebd5e7",
   "metadata": {},
   "outputs": [],
   "source": [
    "import pandas as pd\n",
    "import numpy as np\n",
    "import warnings\n",
    "warnings.filterwarnings(\"ignore\")"
   ]
  },
  {
   "cell_type": "code",
   "execution_count": null,
   "id": "a255e7f1",
   "metadata": {},
   "outputs": [],
   "source": [
    "df = pd.read_csv('datasets/healthcare-dataset-stroke-data.csv')\n",
    "\n",
    "df.head()"
   ]
  },
  {
   "cell_type": "code",
   "execution_count": null,
   "id": "49d0c9a6",
   "metadata": {},
   "outputs": [],
   "source": [
    "df.info()"
   ]
  },
  {
   "cell_type": "code",
   "execution_count": null,
   "id": "67627ab2",
   "metadata": {},
   "outputs": [],
   "source": [
    "Y = df.pop('stroke')"
   ]
  },
  {
   "cell_type": "code",
   "execution_count": null,
   "id": "edd0b393",
   "metadata": {},
   "outputs": [],
   "source": [
    "from sklearn.preprocessing import MinMaxScaler\n",
    "minmax_scaler = MinMaxScaler()"
   ]
  },
  {
   "cell_type": "code",
   "execution_count": null,
   "id": "6053d534",
   "metadata": {},
   "outputs": [],
   "source": [
    "numerics = ['int16', 'int32', 'int64', 'float16', 'float32', 'float64']\n",
    "\n",
    "num_cal = [i for i in df.select_dtypes(include=numerics)]\n",
    "num_cal"
   ]
  },
  {
   "cell_type": "code",
   "execution_count": null,
   "id": "3685b1cc",
   "metadata": {},
   "outputs": [],
   "source": [
    "for i in num_cal:\n",
    "    df[i+\"_scaled\"] = minmax_scaler.fit_transform(df[i].values.reshape(-1,1))"
   ]
  },
  {
   "cell_type": "code",
   "execution_count": null,
   "id": "30d81c3e",
   "metadata": {},
   "outputs": [],
   "source": [
    "df.head()"
   ]
  },
  {
   "cell_type": "code",
   "execution_count": null,
   "id": "16ded91c",
   "metadata": {},
   "outputs": [],
   "source": [
    "df.drop(columns=num_cal, axis=1, inplace=True)"
   ]
  },
  {
   "cell_type": "code",
   "execution_count": null,
   "id": "ff395e42",
   "metadata": {},
   "outputs": [],
   "source": [
    "df.head()"
   ]
  },
  {
   "cell_type": "code",
   "execution_count": null,
   "id": "0f343451",
   "metadata": {},
   "outputs": [],
   "source": [
    "cat_cols = []\n",
    "\n",
    "for i in df.select_dtypes(include=\"object\"):\n",
    "    cat_cols.append(i)\n",
    "cat_cols"
   ]
  },
  {
   "cell_type": "code",
   "execution_count": null,
   "id": "19ace66a",
   "metadata": {},
   "outputs": [],
   "source": [
    "df_cat = pd.get_dummies(df[cat_cols])"
   ]
  },
  {
   "cell_type": "code",
   "execution_count": null,
   "id": "5460bed9",
   "metadata": {},
   "outputs": [],
   "source": [
    "df_cat.head()"
   ]
  },
  {
   "cell_type": "code",
   "execution_count": null,
   "id": "59c1bcae",
   "metadata": {},
   "outputs": [],
   "source": [
    "numerics = ['int16', 'int32', 'int64', 'float16', 'float32', 'float64']\n",
    "\n",
    "num_cal = [i for i in df.select_dtypes(include=numerics)]\n",
    "num_cal"
   ]
  },
  {
   "cell_type": "code",
   "execution_count": null,
   "id": "7ffea40d",
   "metadata": {},
   "outputs": [],
   "source": [
    "df_num = df[num_cal]"
   ]
  },
  {
   "cell_type": "code",
   "execution_count": null,
   "id": "16ed85c5",
   "metadata": {},
   "outputs": [],
   "source": [
    "X = pd.concat([df_cat, df_num], axis=1)\n",
    "print(X.shape)"
   ]
  },
  {
   "cell_type": "code",
   "execution_count": null,
   "id": "ed61e843",
   "metadata": {},
   "outputs": [],
   "source": [
    "df.columns"
   ]
  },
  {
   "cell_type": "code",
   "execution_count": null,
   "id": "e30d6251",
   "metadata": {},
   "outputs": [],
   "source": [
    "Y.shape"
   ]
  },
  {
   "cell_type": "code",
   "execution_count": null,
   "id": "83f002c0",
   "metadata": {},
   "outputs": [],
   "source": [
    "from sklearn.model_selection import train_test_split\n",
    "from sklearn.linear_model import LogisticRegression"
   ]
  },
  {
   "cell_type": "code",
   "execution_count": null,
   "id": "a6ca812c",
   "metadata": {},
   "outputs": [],
   "source": [
    "X_train, X_test, y_train, y_test = train_test_split(X, Y, test_size=0.3,random_state=123)"
   ]
  },
  {
   "cell_type": "code",
   "execution_count": null,
   "id": "9aed3a93",
   "metadata": {},
   "outputs": [],
   "source": [
    "# Defining the LogisticRegression function\n",
    "model = LogisticRegression()\n",
    "model.fit(X_train, y_train)"
   ]
  },
  {
   "cell_type": "code",
   "execution_count": null,
   "id": "18356a7d",
   "metadata": {},
   "outputs": [],
   "source": [
    "pred = model.predict(X_test)\n",
    "\n",
    "print(\"Accuracy of Logistic regression model \"\\\n",
    "     \"test set: {:.2f}\"\\\n",
    "    .format(model.score(X_test, y_test)))"
   ]
  },
  {
   "cell_type": "code",
   "execution_count": null,
   "id": "4bc0a9b6",
   "metadata": {},
   "outputs": [],
   "source": [
    "# Confusion Matrix for the model\n",
    "from sklearn.metrics import confusion_matrix\n",
    "confusionMatrix = confusion_matrix(y_test, pred)\n",
    "print(confusionMatrix)\n",
    "from sklearn.metrics import classification_report\n",
    "print(classification_report(y_test, pred))"
   ]
  },
  {
   "cell_type": "code",
   "execution_count": null,
   "id": "e2470ad1",
   "metadata": {},
   "outputs": [],
   "source": [
    "y_train.value_counts()"
   ]
  },
  {
   "cell_type": "code",
   "execution_count": null,
   "id": "f2d163a4",
   "metadata": {},
   "outputs": [],
   "source": [
    "print('Percentage of negative class :',\\\n",
    "      (y_train[y_train==1].value_counts()\\\n",
    "       /len(y_train) ) * 100)\n",
    "print('Percentage of positive class :',\\\n",
    "      (y_train[y_train==0].value_counts()\\\n",
    "       /len(y_train) ) * 100)"
   ]
  },
  {
   "cell_type": "markdown",
   "id": "8be1d73d",
   "metadata": {},
   "source": [
    "### Implementing Random Undersampling and Classification on Our Healthcare Dataset to Find the Optimal Result"
   ]
  },
  {
   "cell_type": "code",
   "execution_count": null,
   "id": "cc440461",
   "metadata": {},
   "outputs": [],
   "source": [
    "\"\"\"\n",
    "Let us first join the train_x and train_y for ease of operation\n",
    "\"\"\"\n",
    "trainData = pd.concat([X_train,y_train],axis=1)"
   ]
  },
  {
   "cell_type": "code",
   "execution_count": null,
   "id": "d0df810b",
   "metadata": {},
   "outputs": [],
   "source": [
    "trainData.head()"
   ]
  },
  {
   "cell_type": "code",
   "execution_count": null,
   "id": "237bf2e2",
   "metadata": {},
   "outputs": [],
   "source": [
    "ind = trainData[trainData['stroke']==1].index\n",
    "print(len(ind))"
   ]
  },
  {
   "cell_type": "code",
   "execution_count": null,
   "id": "5a0341b6",
   "metadata": {},
   "outputs": [],
   "source": [
    "minData = trainData.loc[ind]\n",
    "print(minData.shape)"
   ]
  },
  {
   "cell_type": "code",
   "execution_count": null,
   "id": "cf55f40f",
   "metadata": {},
   "outputs": [],
   "source": [
    "ind1 = trainData[trainData['stroke']==0].index\n",
    "print(len(ind1))"
   ]
  },
  {
   "cell_type": "code",
   "execution_count": null,
   "id": "880a4292",
   "metadata": {},
   "outputs": [],
   "source": [
    "majData = trainData.loc[ind1]\n",
    "print(majData.shape)\n",
    "majData.head()"
   ]
  },
  {
   "cell_type": "code",
   "execution_count": null,
   "id": "3c176266",
   "metadata": {},
   "outputs": [],
   "source": [
    "majSample = majData.sample(n=len(ind),random_state = 123)"
   ]
  },
  {
   "cell_type": "code",
   "execution_count": null,
   "id": "7552ec64",
   "metadata": {},
   "outputs": [],
   "source": [
    "print(majSample.shape)\n",
    "majSample.head()"
   ]
  },
  {
   "cell_type": "code",
   "execution_count": null,
   "id": "8a672e94",
   "metadata": {},
   "outputs": [],
   "source": [
    "\"\"\"\n",
    "Concatenating both data sets and then shuffling the data set\n",
    "\"\"\"\n",
    "balData = pd.concat([minData,majSample],axis = 0)"
   ]
  },
  {
   "cell_type": "code",
   "execution_count": null,
   "id": "a2159d5d",
   "metadata": {},
   "outputs": [],
   "source": [
    "# Shuffling the data set\n",
    "from sklearn.utils import shuffle\n",
    "balData = shuffle(balData)\n",
    "balData.head()"
   ]
  },
  {
   "cell_type": "code",
   "execution_count": null,
   "id": "467d30a3",
   "metadata": {},
   "outputs": [],
   "source": [
    "# Making the new X_train and y_train\n",
    "X_trainNew = balData.iloc[:,0:21]\n",
    "print(X_trainNew.head())\n",
    "y_trainNew = balData['stroke']\n",
    "print(y_trainNew.head())"
   ]
  },
  {
   "cell_type": "code",
   "execution_count": null,
   "id": "2aa0bbc5",
   "metadata": {},
   "outputs": [],
   "source": [
    "from sklearn.linear_model import LogisticRegression\n",
    "model1 = LogisticRegression()\n",
    "model1.fit(X_trainNew, y_trainNew)"
   ]
  },
  {
   "cell_type": "code",
   "execution_count": null,
   "id": "e706351c",
   "metadata": {},
   "outputs": [],
   "source": [
    "pred = model1.predict(X_test)\n",
    "print('Accuracy of Logistic regression model prediction on test set \\\n",
    "for balanced data set: {:.2f}'.format(model1.score(X_test, y_test)))"
   ]
  },
  {
   "cell_type": "code",
   "execution_count": null,
   "id": "070a75b3",
   "metadata": {},
   "outputs": [],
   "source": [
    "from sklearn.metrics import confusion_matrix\n",
    "confusionMatrix = confusion_matrix(y_test, pred)\n",
    "print(confusionMatrix)\n",
    "from sklearn.metrics import classification_report\n",
    "print(classification_report(y_test, pred))"
   ]
  },
  {
   "cell_type": "code",
   "execution_count": null,
   "id": "bf28576c",
   "metadata": {},
   "outputs": [],
   "source": [
    "!pip install smote-variants --user"
   ]
  },
  {
   "cell_type": "markdown",
   "id": "feec573e",
   "metadata": {},
   "source": [
    "### Implementing SMOTE on Our HealthCare Dataset to Find the Optimal Result"
   ]
  },
  {
   "cell_type": "code",
   "execution_count": null,
   "id": "0eb1a2d4",
   "metadata": {},
   "outputs": [],
   "source": [
    "# Shape before oversampling\n",
    "print(\"Before OverSampling count of yes: {}\".format(sum(y_train==1)))\n",
    "print(\"Before OverSampling count of no: {} \\n\".format(sum(y_train==0)))"
   ]
  },
  {
   "cell_type": "code",
   "execution_count": null,
   "id": "849f2eba",
   "metadata": {},
   "outputs": [],
   "source": [
    "#!pip install smote-variants\n",
    "import smote_variants as sv\n",
    "import numpy as np"
   ]
  },
  {
   "cell_type": "code",
   "execution_count": null,
   "id": "52af9f4d",
   "metadata": {},
   "outputs": [],
   "source": [
    "# Instantiating the SMOTE class\n",
    "oversampler= sv.SMOTE()"
   ]
  },
  {
   "cell_type": "code",
   "execution_count": null,
   "id": "0721e669",
   "metadata": {},
   "outputs": [],
   "source": [
    "# Creating new training set\n",
    "X_train_os, y_train_os = oversampler.sample(np.array(X_train), np.array(y_train))"
   ]
  },
  {
   "cell_type": "code",
   "execution_count": null,
   "id": "04abb05e",
   "metadata": {},
   "outputs": [],
   "source": [
    "# Shape after oversampling\n",
    "print('After OverSampling, the shape of train_X: {}'.format(X_train_os.shape))\n",
    "print('After OverSampling, the shape of train_y: {} \\n'.format(y_train_os.shape))\n",
    "print(\"After OverSampling, counts of label 'Yes': {}\".format(sum(y_train_os==1)))\n",
    "print(\"After OverSampling, counts of label 'no': {}\".format(sum(y_train_os==0)))"
   ]
  },
  {
   "cell_type": "code",
   "execution_count": null,
   "id": "b9278611",
   "metadata": {},
   "outputs": [],
   "source": [
    "# Training the model with Logistic regression model\n",
    "from sklearn.linear_model import LogisticRegression\n",
    "model2 = LogisticRegression()\n",
    "model2.fit(X_train_os, y_train_os)"
   ]
  },
  {
   "cell_type": "code",
   "execution_count": null,
   "id": "692d3807",
   "metadata": {},
   "outputs": [],
   "source": [
    "pred = model2.predict(X_test)"
   ]
  },
  {
   "cell_type": "code",
   "execution_count": null,
   "id": "2c93ae7c",
   "metadata": {},
   "outputs": [],
   "source": [
    "print('Accuracy of Logistic regression model prediction on \\\n",
    "test set for Smote balanced data set: {:.2f}'.format(model2.score(X_test, y_test)))"
   ]
  },
  {
   "cell_type": "code",
   "execution_count": null,
   "id": "51590ef5",
   "metadata": {},
   "outputs": [],
   "source": [
    "from sklearn.metrics import confusion_matrix\n",
    "confusionMatrix = confusion_matrix(y_test, pred)\n",
    "print(confusionMatrix)"
   ]
  },
  {
   "cell_type": "code",
   "execution_count": null,
   "id": "4a836b46",
   "metadata": {},
   "outputs": [],
   "source": [
    "from sklearn.metrics import classification_report\n",
    "print(classification_report(y_test, pred))"
   ]
  },
  {
   "cell_type": "markdown",
   "id": "9eee0510",
   "metadata": {},
   "source": [
    "### Implementing MSMOTE on Our Insurance Dataset to Find the Optimal Result"
   ]
  },
  {
   "cell_type": "code",
   "execution_count": null,
   "id": "56afc478",
   "metadata": {},
   "outputs": [],
   "source": [
    "# Shape before oversampling\n",
    "print(\"Before OverSampling count of yes: {}\".format(sum(y_train==1)))\n",
    "print(\"Before OverSampling count of no: {} \\n\".format(sum(y_train==0)))"
   ]
  },
  {
   "cell_type": "code",
   "execution_count": null,
   "id": "fc6ccddf",
   "metadata": {},
   "outputs": [],
   "source": [
    "# Instantiating the MSMOTE class\n",
    "oversampler= sv.MSMOTE()"
   ]
  },
  {
   "cell_type": "code",
   "execution_count": null,
   "id": "03817af9",
   "metadata": {},
   "outputs": [],
   "source": [
    "# Creating new training set\n",
    "X_train_os, y_train_os = oversampler.sample(np.array(X_train), np.array(y_train))"
   ]
  },
  {
   "cell_type": "code",
   "execution_count": null,
   "id": "94faf424",
   "metadata": {},
   "outputs": [],
   "source": [
    "# Shape after oversampling\n",
    "print('After OverSampling, the shape of train_X: {}'.format(X_train_os.shape))\n",
    "print('After OverSampling, the shape of train_y: {} \\n'.format(y_train_os.shape))\n",
    "print(\"After OverSampling, counts of label 'Yes': {}\".format(sum(y_train_os==1)))\n",
    "print(\"After OverSampling, counts of label 'no': {}\".format(sum(y_train_os==0)))"
   ]
  },
  {
   "cell_type": "code",
   "execution_count": null,
   "id": "0387fa80",
   "metadata": {},
   "outputs": [],
   "source": [
    "# Training the model with Logistic regression model\n",
    "from sklearn.linear_model import LogisticRegression\n",
    "# Defining the LogisticRegression function\n",
    "model3 = LogisticRegression()\n",
    "model3.fit(X_train_os, y_train_os)"
   ]
  },
  {
   "cell_type": "code",
   "execution_count": null,
   "id": "4940e7b3",
   "metadata": {},
   "outputs": [],
   "source": [
    "pred = model3.predict(X_test)"
   ]
  },
  {
   "cell_type": "code",
   "execution_count": null,
   "id": "4bf2dca3",
   "metadata": {},
   "outputs": [],
   "source": [
    "print(\"Accuracy of Logistic Regression on test set for MSMOTE balance dataset: {:.2f}\".format(model3.score(X_test, y_test)))"
   ]
  },
  {
   "cell_type": "code",
   "execution_count": null,
   "id": "7da9755c",
   "metadata": {},
   "outputs": [],
   "source": [
    "from sklearn.metrics import confusion_matrix\n",
    "confusionMatrix = confusion_matrix(y_test, pred)\n",
    "print(confusionMatrix)"
   ]
  },
  {
   "cell_type": "code",
   "execution_count": null,
   "id": "80de2959",
   "metadata": {},
   "outputs": [],
   "source": [
    "from sklearn.metrics import classification_report\n",
    "print(classification_report(y_test, pred))"
   ]
  },
  {
   "cell_type": "code",
   "execution_count": null,
   "id": "0903faf1",
   "metadata": {},
   "outputs": [],
   "source": []
  },
  {
   "cell_type": "code",
   "execution_count": null,
   "id": "6b27a3a0",
   "metadata": {},
   "outputs": [],
   "source": []
  },
  {
   "cell_type": "code",
   "execution_count": null,
   "id": "afed8a42",
   "metadata": {},
   "outputs": [],
   "source": []
  }
 ],
 "metadata": {
  "kernelspec": {
   "display_name": "Python 3",
   "language": "python",
   "name": "python3"
  },
  "language_info": {
   "codemirror_mode": {
    "name": "ipython",
    "version": 3
   },
   "file_extension": ".py",
   "mimetype": "text/x-python",
   "name": "python",
   "nbconvert_exporter": "python",
   "pygments_lexer": "ipython3",
   "version": "3.8.8"
  }
 },
 "nbformat": 4,
 "nbformat_minor": 5
}
