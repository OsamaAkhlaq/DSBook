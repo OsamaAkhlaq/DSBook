{
 "cells": [
  {
   "cell_type": "markdown",
   "id": "dc5ae07c",
   "metadata": {},
   "source": [
    "### Exercise 13.01: Benchmarking the Logistic Regression Model on the Dataset"
   ]
  },
  {
   "cell_type": "code",
   "execution_count": null,
   "id": "13f5c0db",
   "metadata": {},
   "outputs": [],
   "source": [
    "import pandas as pd\n",
    "import warnings\n",
    "warnings.filterwarnings(\"ignore\")"
   ]
  },
  {
   "cell_type": "code",
   "execution_count": null,
   "id": "33d17167",
   "metadata": {},
   "outputs": [],
   "source": [
    "df = pd.read_csv('datasets/insurance_claims.csv')\n",
    "\n",
    "df.head()"
   ]
  },
  {
   "cell_type": "code",
   "execution_count": null,
   "id": "6aef60c8",
   "metadata": {},
   "outputs": [],
   "source": [
    "df.info()"
   ]
  },
  {
   "cell_type": "code",
   "execution_count": null,
   "id": "e7863121",
   "metadata": {},
   "outputs": [],
   "source": [
    "df['auto_year'] = df['auto_year'].astype(\"str\")\n",
    "df['number_of_vehicles_involved'] = df['number_of_vehicles_involved'].astype(\"str\")\n",
    "df['bodily_injuries'] = df['bodily_injuries'].astype(\"str\")\n",
    "df['witnesses'] = df['witnesses'].astype(\"str\")"
   ]
  },
  {
   "cell_type": "code",
   "execution_count": null,
   "id": "d57cf165",
   "metadata": {},
   "outputs": [],
   "source": [
    "df.info()"
   ]
  },
  {
   "cell_type": "code",
   "execution_count": null,
   "id": "da0c9b53",
   "metadata": {},
   "outputs": [],
   "source": [
    "from sklearn.preprocessing import RobustScaler\n",
    "rob_scaler = RobustScaler()"
   ]
  },
  {
   "cell_type": "code",
   "execution_count": null,
   "id": "7646d12a",
   "metadata": {},
   "outputs": [],
   "source": [
    "numerics = ['int16', 'int32', 'int64', 'float16', 'float32', 'float64']\n",
    "\n",
    "num_cal = [i for i in df.select_dtypes(include=numerics)]\n",
    "num_cal"
   ]
  },
  {
   "cell_type": "code",
   "execution_count": null,
   "id": "c59ac8a1",
   "metadata": {},
   "outputs": [],
   "source": [
    "for i in num_cal:\n",
    "    df[i+\"_scaled\"] = rob_scaler.fit_transform(df[i].values.reshape(-1,1))"
   ]
  },
  {
   "cell_type": "code",
   "execution_count": null,
   "id": "4fb16344",
   "metadata": {},
   "outputs": [],
   "source": [
    "df.head()"
   ]
  },
  {
   "cell_type": "code",
   "execution_count": null,
   "id": "232b748f",
   "metadata": {},
   "outputs": [],
   "source": [
    "df.drop(columns=num_cal, axis=1, inplace=True)"
   ]
  },
  {
   "cell_type": "code",
   "execution_count": null,
   "id": "fef715c3",
   "metadata": {},
   "outputs": [],
   "source": [
    "df.head()"
   ]
  },
  {
   "cell_type": "code",
   "execution_count": null,
   "id": "63cc177d",
   "metadata": {},
   "outputs": [],
   "source": [
    "cat_cols = []\n",
    "\n",
    "for i in df.select_dtypes(include=\"object\"):\n",
    "    if i == 'fraud_reported':\n",
    "        continue\n",
    "    cat_cols.append(i)\n",
    "cat_cols"
   ]
  },
  {
   "cell_type": "code",
   "execution_count": null,
   "id": "b23ad885",
   "metadata": {},
   "outputs": [],
   "source": [
    "df_cat = pd.get_dummies(df[cat_cols])"
   ]
  },
  {
   "cell_type": "code",
   "execution_count": null,
   "id": "109e9ddd",
   "metadata": {},
   "outputs": [],
   "source": [
    "df_cat.head()"
   ]
  },
  {
   "cell_type": "code",
   "execution_count": null,
   "id": "96d29d93",
   "metadata": {},
   "outputs": [],
   "source": [
    "numerics = ['int16', 'int32', 'int64', 'float16', 'float32', 'float64']\n",
    "\n",
    "num_cal = [i for i in df.select_dtypes(include=numerics)]\n",
    "num_cal"
   ]
  },
  {
   "cell_type": "code",
   "execution_count": null,
   "id": "1fe4450d",
   "metadata": {},
   "outputs": [],
   "source": [
    "df_num = df[num_cal]"
   ]
  },
  {
   "cell_type": "code",
   "execution_count": null,
   "id": "7cb4b69f",
   "metadata": {},
   "outputs": [],
   "source": [
    "X = pd.concat([df_cat, df_num], axis=1)\n",
    "print(X.shape)"
   ]
  },
  {
   "cell_type": "code",
   "execution_count": null,
   "id": "fcbda9dc",
   "metadata": {},
   "outputs": [],
   "source": [
    "Y = df['fraud_reported'].replace({\"Y\":1,\n",
    "                                 \"N\":0})"
   ]
  },
  {
   "cell_type": "code",
   "execution_count": null,
   "id": "1fdb101e",
   "metadata": {},
   "outputs": [],
   "source": [
    "Y.shape"
   ]
  },
  {
   "cell_type": "code",
   "execution_count": null,
   "id": "8143a402",
   "metadata": {},
   "outputs": [],
   "source": [
    "from sklearn.model_selection import train_test_split\n",
    "from sklearn.linear_model import LogisticRegression"
   ]
  },
  {
   "cell_type": "code",
   "execution_count": null,
   "id": "ac396c06",
   "metadata": {},
   "outputs": [],
   "source": [
    "X_train, X_test, y_train, y_test = train_test_split(X, Y, test_size=0.3,\n",
    "                                                    random_state=123)"
   ]
  },
  {
   "cell_type": "code",
   "execution_count": null,
   "id": "159c7ae7",
   "metadata": {},
   "outputs": [],
   "source": [
    "# Defining the LogisticRegression function\n",
    "model = LogisticRegression()\n",
    "model.fit(X_train, y_train)"
   ]
  },
  {
   "cell_type": "code",
   "execution_count": null,
   "id": "1de6a706",
   "metadata": {},
   "outputs": [],
   "source": [
    "pred = model.predict(X_test)\n",
    "\n",
    "print(\"Accuracy of Logistic regression model \"\\\n",
    "     \"test set: {:.2f}\"\\\n",
    "    .format(model.score(X_test, y_test)))"
   ]
  },
  {
   "cell_type": "code",
   "execution_count": null,
   "id": "e8ca0019",
   "metadata": {},
   "outputs": [],
   "source": [
    "# Confusion Matrix for the model\n",
    "from sklearn.metrics import confusion_matrix\n",
    "confusionMatrix = confusion_matrix(y_test, pred)\n",
    "print(confusionMatrix)\n",
    "from sklearn.metrics import classification_report\n",
    "print(classification_report(y_test, pred))"
   ]
  },
  {
   "cell_type": "code",
   "execution_count": null,
   "id": "f1e3d81f",
   "metadata": {},
   "outputs": [],
   "source": [
    "print('Percentage of negative class :',\\\n",
    "      (y_train[y_train==1].value_counts()\\\n",
    "       /len(y_train) ) * 100)\n",
    "print('Percentage of positive class :',\\\n",
    "      (y_train[y_train==0].value_counts()\\\n",
    "       /len(y_train) ) * 100)"
   ]
  },
  {
   "cell_type": "markdown",
   "id": "e7721def",
   "metadata": {},
   "source": [
    "### Exercise 13.02: Implementing Random Undersampling and Classification on Our Insurance Dataset to Find the Optimal Result"
   ]
  },
  {
   "cell_type": "code",
   "execution_count": null,
   "id": "2b6744fc",
   "metadata": {},
   "outputs": [],
   "source": [
    "\"\"\"\n",
    "Let us first join the train_x and train_y for ease of operation\n",
    "\"\"\"\n",
    "trainData = pd.concat([X_train,y_train],axis=1)"
   ]
  },
  {
   "cell_type": "code",
   "execution_count": null,
   "id": "5188cc59",
   "metadata": {},
   "outputs": [],
   "source": [
    "trainData.head()"
   ]
  },
  {
   "cell_type": "code",
   "execution_count": null,
   "id": "3015597d",
   "metadata": {},
   "outputs": [],
   "source": [
    "ind = trainData[trainData['fraud_reported']==1].index\n",
    "print(len(ind))"
   ]
  },
  {
   "cell_type": "code",
   "execution_count": null,
   "id": "a4ceee4c",
   "metadata": {},
   "outputs": [],
   "source": [
    "minData = trainData.loc[ind]\n",
    "print(minData.shape)"
   ]
  },
  {
   "cell_type": "code",
   "execution_count": null,
   "id": "8fd6b0b1",
   "metadata": {},
   "outputs": [],
   "source": [
    "ind1 = trainData[trainData['fraud_reported']==0].index\n",
    "print(len(ind1))"
   ]
  },
  {
   "cell_type": "code",
   "execution_count": null,
   "id": "e8f9af6b",
   "metadata": {},
   "outputs": [],
   "source": [
    "majData = trainData.loc[ind1]\n",
    "print(majData.shape)\n",
    "majData.head()"
   ]
  },
  {
   "cell_type": "code",
   "execution_count": null,
   "id": "8aed6b42",
   "metadata": {},
   "outputs": [],
   "source": [
    "majSample = majData.sample(n=len(ind),random_state = 123)"
   ]
  },
  {
   "cell_type": "code",
   "execution_count": null,
   "id": "427b8637",
   "metadata": {},
   "outputs": [],
   "source": [
    "print(majSample.shape)\n",
    "majSample.head()"
   ]
  },
  {
   "cell_type": "code",
   "execution_count": null,
   "id": "52c43385",
   "metadata": {},
   "outputs": [],
   "source": [
    "\"\"\"\n",
    "Concatenating both data sets and then shuffling the data set\n",
    "\"\"\"\n",
    "balData = pd.concat([minData,majSample],axis = 0)"
   ]
  },
  {
   "cell_type": "code",
   "execution_count": null,
   "id": "ba834e82",
   "metadata": {},
   "outputs": [],
   "source": [
    "# Shuffling the data set\n",
    "from sklearn.utils import shuffle\n",
    "balData = shuffle(balData)\n",
    "balData.head()"
   ]
  },
  {
   "cell_type": "code",
   "execution_count": null,
   "id": "83257e46",
   "metadata": {},
   "outputs": [],
   "source": [
    "# Making the new X_train and y_train\n",
    "X_trainNew = balData.iloc[:,0:99]\n",
    "print(X_trainNew.head())\n",
    "y_trainNew = balData['fraud_reported']\n",
    "print(y_trainNew.head())"
   ]
  },
  {
   "cell_type": "code",
   "execution_count": null,
   "id": "9359abcf",
   "metadata": {},
   "outputs": [],
   "source": [
    "from sklearn.linear_model import LogisticRegression\n",
    "model1 = LogisticRegression()\n",
    "model1.fit(X_trainNew, y_trainNew)"
   ]
  },
  {
   "cell_type": "code",
   "execution_count": null,
   "id": "1d7b1fd8",
   "metadata": {},
   "outputs": [],
   "source": [
    "pred = model1.predict(X_test)\n",
    "print('Accuracy of Logistic regression model prediction on test set \\\n",
    "for balanced data set: {:.2f}'.format(model1.score(X_test, y_test)))"
   ]
  },
  {
   "cell_type": "code",
   "execution_count": null,
   "id": "fdada773",
   "metadata": {},
   "outputs": [],
   "source": [
    "from sklearn.metrics import confusion_matrix\n",
    "confusionMatrix = confusion_matrix(y_test, pred)\n",
    "print(confusionMatrix)\n",
    "from sklearn.metrics import classification_report\n",
    "print(classification_report(y_test, pred))"
   ]
  },
  {
   "cell_type": "code",
   "execution_count": null,
   "id": "1f42d54f",
   "metadata": {},
   "outputs": [],
   "source": [
    "!pip install smote-variants --user"
   ]
  },
  {
   "cell_type": "markdown",
   "id": "a0b19667",
   "metadata": {},
   "source": [
    "### Exercise 13.03: Implementing SMOTE on Our Insurance Dataset to Find the Optimal Result"
   ]
  },
  {
   "cell_type": "code",
   "execution_count": null,
   "id": "b14926cb",
   "metadata": {},
   "outputs": [],
   "source": [
    "# Shape before oversampling\n",
    "print(\"Before OverSampling count of yes: {}\".format(sum(y_train==1)))\n",
    "print(\"Before OverSampling count of no: {} \\n\".format(sum(y_train==0)))"
   ]
  },
  {
   "cell_type": "code",
   "execution_count": null,
   "id": "7a1952e4",
   "metadata": {},
   "outputs": [],
   "source": [
    "#!pip install smote-variants\n",
    "import smote_variants as sv\n",
    "import numpy as np"
   ]
  },
  {
   "cell_type": "code",
   "execution_count": null,
   "id": "452a1032",
   "metadata": {},
   "outputs": [],
   "source": [
    "# Instantiating the SMOTE class\n",
    "oversampler= sv.SMOTE()"
   ]
  },
  {
   "cell_type": "code",
   "execution_count": null,
   "id": "1eaf00f3",
   "metadata": {},
   "outputs": [],
   "source": [
    "# Creating new training set\n",
    "X_train_os, y_train_os = oversampler.sample(np.array(X_train), \n",
    "                                            np.array(y_train))"
   ]
  },
  {
   "cell_type": "code",
   "execution_count": null,
   "id": "a37ed46f",
   "metadata": {},
   "outputs": [],
   "source": [
    "# Shape after oversampling\n",
    "print('After OverSampling, the shape of train_X: {}'.format(X_train_os.shape))\n",
    "print('After OverSampling, the shape of train_y: {} \\n'.format(y_train_os.shape))\n",
    "print(\"After OverSampling, counts of label 'Yes': {}\".format(sum(y_train_os==1)))\n",
    "print(\"After OverSampling, counts of label 'no': {}\".format(sum(y_train_os==0)))"
   ]
  },
  {
   "cell_type": "code",
   "execution_count": null,
   "id": "2e9fe42c",
   "metadata": {},
   "outputs": [],
   "source": [
    "# Training the model with Logistic regression model\n",
    "from sklearn.linear_model import LogisticRegression\n",
    "model2 = LogisticRegression()\n",
    "model2.fit(X_train_os, y_train_os)"
   ]
  },
  {
   "cell_type": "code",
   "execution_count": null,
   "id": "d2341fad",
   "metadata": {},
   "outputs": [],
   "source": [
    "pred = model2.predict(X_test)"
   ]
  },
  {
   "cell_type": "code",
   "execution_count": null,
   "id": "fc005b61",
   "metadata": {},
   "outputs": [],
   "source": [
    "print('Accuracy of Logistic regression model prediction on \\\n",
    "test set for Smote balanced data set: {:.2f}'.format(model2.score(X_test,\n",
    "                                                                  y_test)))"
   ]
  },
  {
   "cell_type": "code",
   "execution_count": null,
   "id": "67548948",
   "metadata": {},
   "outputs": [],
   "source": [
    "from sklearn.metrics import confusion_matrix\n",
    "confusionMatrix = confusion_matrix(y_test, pred)\n",
    "print(confusionMatrix)"
   ]
  },
  {
   "cell_type": "code",
   "execution_count": null,
   "id": "a9804913",
   "metadata": {},
   "outputs": [],
   "source": [
    "from sklearn.metrics import classification_report\n",
    "print(classification_report(y_test, pred))"
   ]
  },
  {
   "cell_type": "markdown",
   "id": "56287068",
   "metadata": {},
   "source": [
    "### Exercise 13.04: Implementing MSMOTE on Our Insurance Dataset to Find the Optimal Result"
   ]
  },
  {
   "cell_type": "code",
   "execution_count": null,
   "id": "eba4a13d",
   "metadata": {},
   "outputs": [],
   "source": [
    "# Shape before oversampling\n",
    "print(\"Before OverSampling count of yes: {}\".format(sum(y_train==1)))\n",
    "print(\"Before OverSampling count of no: {} \\n\".format(sum(y_train==0)))"
   ]
  },
  {
   "cell_type": "code",
   "execution_count": null,
   "id": "4146b8e9",
   "metadata": {},
   "outputs": [],
   "source": [
    "# Instantiating the MSMOTE class\n",
    "oversampler= sv.MSMOTE()"
   ]
  },
  {
   "cell_type": "code",
   "execution_count": null,
   "id": "54a4e902",
   "metadata": {},
   "outputs": [],
   "source": [
    "# Creating new training set\n",
    "X_train_os, y_train_os = oversampler.sample(np.array(X_train), \n",
    "                                            np.array(y_train))"
   ]
  },
  {
   "cell_type": "code",
   "execution_count": null,
   "id": "f08a19bb",
   "metadata": {},
   "outputs": [],
   "source": [
    "# Shape after oversampling\n",
    "print('After OverSampling, the shape of train_X: {}'.format(X_train_os.shape))\n",
    "print('After OverSampling, the shape of train_y: {} \\n'.format(y_train_os.shape))\n",
    "print(\"After OverSampling, counts of label 'Yes': {}\".format(sum(y_train_os==1)))\n",
    "print(\"After OverSampling, counts of label 'no': {}\".format(sum(y_train_os==0)))"
   ]
  },
  {
   "cell_type": "code",
   "execution_count": null,
   "id": "89972877",
   "metadata": {},
   "outputs": [],
   "source": [
    "# Training the model with Logistic regression model\n",
    "from sklearn.linear_model import LogisticRegression\n",
    "# Defining the LogisticRegression function\n",
    "model3 = LogisticRegression()\n",
    "model3.fit(X_train_os, y_train_os)"
   ]
  },
  {
   "cell_type": "code",
   "execution_count": null,
   "id": "2a11cdb2",
   "metadata": {},
   "outputs": [],
   "source": [
    "pred = model3.predict(X_test)"
   ]
  },
  {
   "cell_type": "code",
   "execution_count": null,
   "id": "cd088aaa",
   "metadata": {},
   "outputs": [],
   "source": [
    "print(\"Accuracy of Logistic Regression on test set for MSMOTE \n",
    "      balance dataset: {:.2f}\".format(model3.score(X_test, y_test)))"
   ]
  },
  {
   "cell_type": "code",
   "execution_count": null,
   "id": "e73d356c",
   "metadata": {},
   "outputs": [],
   "source": [
    "from sklearn.metrics import confusion_matrix\n",
    "confusionMatrix = confusion_matrix(y_test, pred)\n",
    "print(confusionMatrix)"
   ]
  },
  {
   "cell_type": "code",
   "execution_count": null,
   "id": "b05621b5",
   "metadata": {},
   "outputs": [],
   "source": [
    "from sklearn.metrics import classification_report\n",
    "print(classification_report(y_test, pred))"
   ]
  },
  {
   "cell_type": "code",
   "execution_count": null,
   "id": "7510dc01",
   "metadata": {},
   "outputs": [],
   "source": []
  },
  {
   "cell_type": "code",
   "execution_count": null,
   "id": "31ff781e",
   "metadata": {},
   "outputs": [],
   "source": []
  },
  {
   "cell_type": "code",
   "execution_count": null,
   "id": "b05b91b1",
   "metadata": {},
   "outputs": [],
   "source": []
  }
 ],
 "metadata": {
  "kernelspec": {
   "display_name": "Python 3",
   "language": "python",
   "name": "python3"
  },
  "language_info": {
   "codemirror_mode": {
    "name": "ipython",
    "version": 3
   },
   "file_extension": ".py",
   "mimetype": "text/x-python",
   "name": "python",
   "nbconvert_exporter": "python",
   "pygments_lexer": "ipython3",
   "version": "3.8.8"
  }
 },
 "nbformat": 4,
 "nbformat_minor": 5
}
